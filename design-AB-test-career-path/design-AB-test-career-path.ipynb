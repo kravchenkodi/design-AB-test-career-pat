{
 "cells": [
  {
   "cell_type": "markdown",
   "id": "142a59be",
   "metadata": {
    "toc": true
   },
   "source": [
    "<h1>Table of Contents<span class=\"tocSkip\"></span></h1>\n",
    "<div class=\"toc\"><ul class=\"toc-item\"><li><span><a href=\"#Задание\" data-toc-modified-id=\"Задание-1\"><span class=\"toc-item-num\">1&nbsp;&nbsp;</span>Задание</a></span><ul class=\"toc-item\"><li><span><a href=\"#Авторы-кейса\" data-toc-modified-id=\"Авторы-кейса-1.1\"><span class=\"toc-item-num\">1.1&nbsp;&nbsp;</span>Авторы кейса</a></span></li><li><span><a href=\"#Задача\" data-toc-modified-id=\"Задача-1.2\"><span class=\"toc-item-num\">1.2&nbsp;&nbsp;</span>Задача</a></span></li><li><span><a href=\"#Метрики\" data-toc-modified-id=\"Метрики-1.3\"><span class=\"toc-item-num\">1.3&nbsp;&nbsp;</span>Метрики</a></span></li><li><span><a href=\"#Данные\" data-toc-modified-id=\"Данные-1.4\"><span class=\"toc-item-num\">1.4&nbsp;&nbsp;</span>Данные</a></span></li></ul></li><li><span><a href=\"#Предобработка\" data-toc-modified-id=\"Предобработка-2\"><span class=\"toc-item-num\">2&nbsp;&nbsp;</span>Предобработка</a></span><ul class=\"toc-item\"><li><span><a href=\"#serps\" data-toc-modified-id=\"serps-2.1\"><span class=\"toc-item-num\">2.1&nbsp;&nbsp;</span>serps</a></span></li><li><span><a href=\"#vacs_metrics\" data-toc-modified-id=\"vacs_metrics-2.2\"><span class=\"toc-item-num\">2.2&nbsp;&nbsp;</span>vacs_metrics</a></span></li><li><span><a href=\"#Агрегация\" data-toc-modified-id=\"Агрегация-2.3\"><span class=\"toc-item-num\">2.3&nbsp;&nbsp;</span>Агрегация</a></span></li><li><span><a href=\"#Выбросы-+-корреляция\" data-toc-modified-id=\"Выбросы-+-корреляция-2.4\"><span class=\"toc-item-num\">2.4&nbsp;&nbsp;</span>Выбросы + корреляция</a></span></li><li><span><a href=\"#Поиск-зависимостей\" data-toc-modified-id=\"Поиск-зависимостей-2.5\"><span class=\"toc-item-num\">2.5&nbsp;&nbsp;</span>Поиск зависимостей</a></span></li></ul></li><li><span><a href=\"#A/B-test\" data-toc-modified-id=\"A/B-test-3\"><span class=\"toc-item-num\">3&nbsp;&nbsp;</span>A/B test</a></span><ul class=\"toc-item\"><li><span><a href=\"#Дизайн\" data-toc-modified-id=\"Дизайн-3.1\"><span class=\"toc-item-num\">3.1&nbsp;&nbsp;</span>Дизайн</a></span><ul class=\"toc-item\"><li><span><a href=\"#прокси-метрики\" data-toc-modified-id=\"прокси-метрики-3.1.1\"><span class=\"toc-item-num\">3.1.1&nbsp;&nbsp;</span>прокси-метрики</a></span></li><li><span><a href=\"#Длительность\" data-toc-modified-id=\"Длительность-3.1.2\"><span class=\"toc-item-num\">3.1.2&nbsp;&nbsp;</span>Длительность</a></span></li><li><span><a href=\"#Сегментаниция\" data-toc-modified-id=\"Сегментаниция-3.1.3\"><span class=\"toc-item-num\">3.1.3&nbsp;&nbsp;</span>Сегментаниция</a></span></li><li><span><a href=\"#Метрики-и-гипотезы\" data-toc-modified-id=\"Метрики-и-гипотезы-3.1.4\"><span class=\"toc-item-num\">3.1.4&nbsp;&nbsp;</span>Метрики и гипотезы</a></span></li><li><span><a href=\"#Bootstrap-для-получения-распределения-долей-по-существующим-данным-вместо-&quot;исторических&quot;\" data-toc-modified-id=\"Bootstrap-для-получения-распределения-долей-по-существующим-данным-вместо-&quot;исторических&quot;-3.1.5\"><span class=\"toc-item-num\">3.1.5&nbsp;&nbsp;</span>Bootstrap для получения распределения долей по существующим данным вместо \"исторических\"</a></span></li><li><span><a href=\"#Считаем-Sample-size\" data-toc-modified-id=\"Считаем-Sample-size-3.1.6\"><span class=\"toc-item-num\">3.1.6&nbsp;&nbsp;</span>Считаем Sample size</a></span></li><li><span><a href=\"#Сегментация-с-солью-на-n-групп\" data-toc-modified-id=\"Сегментация-с-солью-на-n-групп-3.1.7\"><span class=\"toc-item-num\">3.1.7&nbsp;&nbsp;</span>Сегментация с солью на n групп</a></span><ul class=\"toc-item\"><li><span><a href=\"#Подготовим-таблицы-для-тестов\" data-toc-modified-id=\"Подготовим-таблицы-для-тестов-3.1.7.1\"><span class=\"toc-item-num\">3.1.7.1&nbsp;&nbsp;</span>Подготовим таблицы для тестов</a></span></li></ul></li></ul></li><li><span><a href=\"#A/A-test\" data-toc-modified-id=\"A/A-test-3.2\"><span class=\"toc-item-num\">3.2&nbsp;&nbsp;</span>A/A test</a></span><ul class=\"toc-item\"><li><span><a href=\"#Зададим-необходимые-функции\" data-toc-modified-id=\"Зададим-необходимые-функции-3.2.1\"><span class=\"toc-item-num\">3.2.1&nbsp;&nbsp;</span>Зададим необходимые функции</a></span></li><li><span><a href=\"#А/А-тест\" data-toc-modified-id=\"А/А-тест-3.2.2\"><span class=\"toc-item-num\">3.2.2&nbsp;&nbsp;</span>А/А тест</a></span></li><li><span><a href=\"#Синтетический-A/B-тест-(симуляция-с-заданным-effect,-принятым-при-расчете-sample-size)\" data-toc-modified-id=\"Синтетический-A/B-тест-(симуляция-с-заданным-effect,-принятым-при-расчете-sample-size)-3.2.3\"><span class=\"toc-item-num\">3.2.3&nbsp;&nbsp;</span>Синтетический A/B тест (симуляция с заданным effect, принятым при расчете sample size)</a></span></li></ul></li><li><span><a href=\"#MDE\" data-toc-modified-id=\"MDE-3.3\"><span class=\"toc-item-num\">3.3&nbsp;&nbsp;</span>MDE</a></span></li></ul></li></ul></div>"
   ]
  },
  {
   "cell_type": "markdown",
   "id": "8dfd207f",
   "metadata": {},
   "source": [
    "# Решение задания для аналитиков от 25 сентября 2023 от Карьерного Цеха\n",
    "\n",
    "## Задание\n",
    "Один из ключевых элементов сервиса hh — поисковое ядро, которое по запросу пользователя подбирает ему отранжированный список вакансий. Пользователь может перейти в каждую вакансию на странице поисковой выдачи (SERP) и откликнуться на неё. У каждой вакансии на serp’е отображается краткое описание и логотип, который указывает компания-работодателя. В алгоритме ранжирования в онлайне учитываются просмотры и отклики на каждую вакансию, сделанные за последние несколько дней/часов. Также наблюдается position bias.\n",
    "\n",
    "В компании HeadHunter решили внедрить современные решения: попробовать заменить описание и логотип на автоматически сгенерированные с помощью нейронных сетей (типа ChatGPT и Midjourney), тем самым повысив привлекательность вакансии и увеличить количество откликов на нее.\n",
    "Необходимо провести A/B-тест для определения целесообразности запуска данного изменения.\n",
    "\n",
    "### Авторы кейса\n",
    "Кочнев Кирилл, Руководитель продуктовой аналитики, HeadHunter.\n",
    "\n",
    "### Задача \n",
    "В ходе данного проекта необходимо выбрать методологию и дизайн теста. А именно определить:\n",
    "1. объект тестирования и принцип разделения на группы,\n",
    "2. какой эффект можно статистически значимо отследить.\n",
    "\n",
    "### Метрики\n",
    "В качестве целевой метрики в А/В используем долю вакансий, у которых скор меньше определенного числа (например 3).\n",
    "\n",
    "### Данные\n",
    "В задании два файла.\n",
    "\n",
    "1. **serps** - таблица поисковых выдач с колонками:\n",
    "    1. request_id — идентификатор serp’а\n",
    "    2. vacancy_id_conv  — идентификатор вакансии\n",
    "    3. city — город пользователя, в котором он ищет работу\n",
    "    4. applicant — id соискателя, который видит SERP и может откликнуться на вакансию\n",
    "    \n",
    "    \n",
    "2. **vacs_metrics** - таблица с метрикой-скор для каждой вакансии:\n",
    "    1. vacancy_id_conv — идентификатор вакансии\n",
    "    2. metrics_full — метрика\n",
    "    3. emplpyer_id — id работодателя, запостившего вакансию"
   ]
  },
  {
   "cell_type": "markdown",
   "id": "7e500098",
   "metadata": {},
   "source": [
    "## Предобработка"
   ]
  },
  {
   "cell_type": "code",
   "execution_count": 383,
   "id": "8cb9d91c",
   "metadata": {
    "ExecuteTime": {
     "end_time": "2023-11-27T16:43:55.034460Z",
     "start_time": "2023-11-27T16:43:55.013353Z"
    }
   },
   "outputs": [],
   "source": [
    "import pandas as pd \n",
    "import numpy as np\n",
    "import math as mth\n",
    "import seaborn as sns\n",
    "import matplotlib.pyplot as plt\n",
    "import swifter\n",
    "import hashlib\n",
    "import random\n",
    "import scipy.stats as stats\n",
    "\n",
    "import warnings \n",
    "warnings.filterwarnings('ignore')"
   ]
  },
  {
   "cell_type": "code",
   "execution_count": 384,
   "id": "9bf9563a",
   "metadata": {
    "ExecuteTime": {
     "end_time": "2023-11-27T16:43:55.050199Z",
     "start_time": "2023-11-27T16:43:55.037818Z"
    }
   },
   "outputs": [],
   "source": [
    "#!pip install swifter"
   ]
  },
  {
   "cell_type": "code",
   "execution_count": 385,
   "id": "67b4fd2b",
   "metadata": {
    "ExecuteTime": {
     "end_time": "2023-11-27T16:43:56.624213Z",
     "start_time": "2023-11-27T16:43:55.052506Z"
    }
   },
   "outputs": [],
   "source": [
    "serps = pd.read_csv('D:\\\\аналитика\\\\карьерный цех осень 2023\\\\аналитики\\\\serps.csv') \n",
    "vacs_metrics = pd.read_csv('D:\\\\аналитика\\\\карьерный цех осень 2023\\\\аналитики\\\\vacs_metrics.csv')"
   ]
  },
  {
   "cell_type": "code",
   "execution_count": 386,
   "id": "c1a0a138",
   "metadata": {
    "ExecuteTime": {
     "end_time": "2023-11-27T16:43:56.639775Z",
     "start_time": "2023-11-27T16:43:56.627320Z"
    }
   },
   "outputs": [],
   "source": [
    "def describe_df(df):\n",
    "    '''\n",
    "    вывод head(), info(), df.duplicated().sum()\n",
    "    '''\n",
    "    display(df.head())\n",
    "    \n",
    "    print(df.info())\n",
    "    \n",
    "    print('Количество полных дубликатов в датафрейме', df.duplicated().sum())"
   ]
  },
  {
   "cell_type": "markdown",
   "id": "35ca3439",
   "metadata": {},
   "source": [
    "### serps"
   ]
  },
  {
   "cell_type": "code",
   "execution_count": 387,
   "id": "280a7e18",
   "metadata": {
    "ExecuteTime": {
     "end_time": "2023-11-27T16:43:57.699338Z",
     "start_time": "2023-11-27T16:43:56.641942Z"
    }
   },
   "outputs": [
    {
     "data": {
      "text/html": [
       "<div>\n",
       "<style scoped>\n",
       "    .dataframe tbody tr th:only-of-type {\n",
       "        vertical-align: middle;\n",
       "    }\n",
       "\n",
       "    .dataframe tbody tr th {\n",
       "        vertical-align: top;\n",
       "    }\n",
       "\n",
       "    .dataframe thead th {\n",
       "        text-align: right;\n",
       "    }\n",
       "</style>\n",
       "<table border=\"1\" class=\"dataframe\">\n",
       "  <thead>\n",
       "    <tr style=\"text-align: right;\">\n",
       "      <th></th>\n",
       "      <th>request_id</th>\n",
       "      <th>vacancy_id_conv</th>\n",
       "      <th>city</th>\n",
       "      <th>applicant</th>\n",
       "    </tr>\n",
       "  </thead>\n",
       "  <tbody>\n",
       "    <tr>\n",
       "      <th>0</th>\n",
       "      <td>168719525526659303f2dee867dc6eda</td>\n",
       "      <td>48019</td>\n",
       "      <td>Moscow</td>\n",
       "      <td>78076</td>\n",
       "    </tr>\n",
       "    <tr>\n",
       "      <th>1</th>\n",
       "      <td>168719525526659303f2dee867dc6eda</td>\n",
       "      <td>45120</td>\n",
       "      <td>Moscow</td>\n",
       "      <td>614859</td>\n",
       "    </tr>\n",
       "    <tr>\n",
       "      <th>2</th>\n",
       "      <td>168719525526659303f2dee867dc6eda</td>\n",
       "      <td>18132</td>\n",
       "      <td>Moscow</td>\n",
       "      <td>175212</td>\n",
       "    </tr>\n",
       "    <tr>\n",
       "      <th>3</th>\n",
       "      <td>168719525526659303f2dee867dc6eda</td>\n",
       "      <td>29942</td>\n",
       "      <td>Moscow</td>\n",
       "      <td>322643</td>\n",
       "    </tr>\n",
       "    <tr>\n",
       "      <th>4</th>\n",
       "      <td>168719525526659303f2dee867dc6eda</td>\n",
       "      <td>32658</td>\n",
       "      <td>Moscow</td>\n",
       "      <td>722260</td>\n",
       "    </tr>\n",
       "  </tbody>\n",
       "</table>\n",
       "</div>"
      ],
      "text/plain": [
       "                         request_id  vacancy_id_conv    city  applicant\n",
       "0  168719525526659303f2dee867dc6eda            48019  Moscow      78076\n",
       "1  168719525526659303f2dee867dc6eda            45120  Moscow     614859\n",
       "2  168719525526659303f2dee867dc6eda            18132  Moscow     175212\n",
       "3  168719525526659303f2dee867dc6eda            29942  Moscow     322643\n",
       "4  168719525526659303f2dee867dc6eda            32658  Moscow     722260"
      ]
     },
     "metadata": {},
     "output_type": "display_data"
    },
    {
     "name": "stdout",
     "output_type": "stream",
     "text": [
      "<class 'pandas.core.frame.DataFrame'>\n",
      "RangeIndex: 2431596 entries, 0 to 2431595\n",
      "Data columns (total 4 columns):\n",
      " #   Column           Dtype \n",
      "---  ------           ----- \n",
      " 0   request_id       object\n",
      " 1   vacancy_id_conv  int64 \n",
      " 2   city             object\n",
      " 3   applicant        int64 \n",
      "dtypes: int64(2), object(2)\n",
      "memory usage: 74.2+ MB\n",
      "None\n",
      "Количество полных дубликатов в датафрейме 0\n"
     ]
    }
   ],
   "source": [
    "describe_df(serps)"
   ]
  },
  {
   "cell_type": "markdown",
   "id": "8ac75ded",
   "metadata": {},
   "source": [
    "пропусков нет\\\n",
    "типы данных корректные"
   ]
  },
  {
   "cell_type": "code",
   "execution_count": 388,
   "id": "7bbd690b",
   "metadata": {
    "ExecuteTime": {
     "end_time": "2023-11-27T16:43:58.460109Z",
     "start_time": "2023-11-27T16:43:57.702320Z"
    }
   },
   "outputs": [
    {
     "data": {
      "text/html": [
       "<div>\n",
       "<style scoped>\n",
       "    .dataframe tbody tr th:only-of-type {\n",
       "        vertical-align: middle;\n",
       "    }\n",
       "\n",
       "    .dataframe tbody tr th {\n",
       "        vertical-align: top;\n",
       "    }\n",
       "\n",
       "    .dataframe thead th {\n",
       "        text-align: right;\n",
       "    }\n",
       "</style>\n",
       "<table border=\"1\" class=\"dataframe\">\n",
       "  <thead>\n",
       "    <tr style=\"text-align: right;\">\n",
       "      <th></th>\n",
       "      <th>request_id</th>\n",
       "      <th>vacancy_id_conv</th>\n",
       "      <th>city</th>\n",
       "      <th>applicant</th>\n",
       "    </tr>\n",
       "  </thead>\n",
       "  <tbody>\n",
       "  </tbody>\n",
       "</table>\n",
       "</div>"
      ],
      "text/plain": [
       "Empty DataFrame\n",
       "Columns: [request_id, vacancy_id_conv, city, applicant]\n",
       "Index: []"
      ]
     },
     "execution_count": 388,
     "metadata": {},
     "output_type": "execute_result"
    }
   ],
   "source": [
    "serps.loc[serps.duplicated(['request_id', 'vacancy_id_conv']) == True]"
   ]
  },
  {
   "cell_type": "code",
   "execution_count": 389,
   "id": "8387fab7",
   "metadata": {
    "ExecuteTime": {
     "end_time": "2023-11-27T16:43:58.885658Z",
     "start_time": "2023-11-27T16:43:58.462725Z"
    }
   },
   "outputs": [
    {
     "data": {
      "text/plain": [
       "1000000"
      ]
     },
     "execution_count": 389,
     "metadata": {},
     "output_type": "execute_result"
    }
   ],
   "source": [
    "# количество результатов поисковых запросов\n",
    "serps.request_id.nunique()"
   ]
  },
  {
   "cell_type": "code",
   "execution_count": 390,
   "id": "78ee5793",
   "metadata": {
    "ExecuteTime": {
     "end_time": "2023-11-27T16:43:59.016914Z",
     "start_time": "2023-11-27T16:43:58.888186Z"
    }
   },
   "outputs": [
    {
     "data": {
      "text/plain": [
       "911862"
      ]
     },
     "execution_count": 390,
     "metadata": {},
     "output_type": "execute_result"
    }
   ],
   "source": [
    "# количество пользователей\n",
    "serps.applicant.nunique()"
   ]
  },
  {
   "cell_type": "code",
   "execution_count": 391,
   "id": "73c010c4",
   "metadata": {
    "ExecuteTime": {
     "end_time": "2023-11-27T16:43:59.049930Z",
     "start_time": "2023-11-27T16:43:59.019304Z"
    }
   },
   "outputs": [
    {
     "data": {
      "text/plain": [
       "55500"
      ]
     },
     "execution_count": 391,
     "metadata": {},
     "output_type": "execute_result"
    }
   ],
   "source": [
    "# количество вакансий\n",
    "serps.vacancy_id_conv.nunique()"
   ]
  },
  {
   "cell_type": "code",
   "execution_count": 392,
   "id": "20487051",
   "metadata": {
    "ExecuteTime": {
     "end_time": "2023-11-27T16:44:02.397483Z",
     "start_time": "2023-11-27T16:43:59.054423Z"
    }
   },
   "outputs": [
    {
     "data": {
      "text/plain": [
       "array([1], dtype=int64)"
      ]
     },
     "execution_count": 392,
     "metadata": {},
     "output_type": "execute_result"
    }
   ],
   "source": [
    "# совпадают ли serp'ы в разных городах\n",
    "serps.groupby('request_id').agg({'city': 'nunique'}).reset_index().city.unique()"
   ]
  },
  {
   "cell_type": "markdown",
   "id": "1d6777ec",
   "metadata": {},
   "source": [
    "Для каждого серпа только один город"
   ]
  },
  {
   "cell_type": "code",
   "execution_count": 393,
   "id": "5072afc8",
   "metadata": {
    "ExecuteTime": {
     "end_time": "2023-11-27T16:44:02.466093Z",
     "start_time": "2023-11-27T16:44:02.399636Z"
    }
   },
   "outputs": [
    {
     "data": {
      "text/plain": [
       "True"
      ]
     },
     "execution_count": 393,
     "metadata": {},
     "output_type": "execute_result"
    }
   ],
   "source": [
    "# совпадают ли id  вакансий по двум таблицам\n",
    "sorted(list(serps.vacancy_id_conv.unique())) == sorted(list(vacs_metrics.vacancy_id_conv.unique()))"
   ]
  },
  {
   "cell_type": "code",
   "execution_count": 394,
   "id": "3902ca67",
   "metadata": {
    "ExecuteTime": {
     "end_time": "2023-11-27T16:44:02.482100Z",
     "start_time": "2023-11-27T16:44:02.466093Z"
    }
   },
   "outputs": [],
   "source": [
    "#vacs_metrics_vacancy = list(vacs_metrics.vacancy_id_conv.unique())\n",
    "#serps.query('vacancy_id_conv not in @vacs_metrics_vacancy')"
   ]
  },
  {
   "cell_type": "code",
   "execution_count": 395,
   "id": "65f1e287",
   "metadata": {
    "ExecuteTime": {
     "end_time": "2023-11-27T16:44:02.586776Z",
     "start_time": "2023-11-27T16:44:02.486925Z"
    }
   },
   "outputs": [
    {
     "data": {
      "text/plain": [
       "array(['Moscow', 'SPb', 'Kazan', 'Penza', 'Samara'], dtype=object)"
      ]
     },
     "execution_count": 395,
     "metadata": {},
     "output_type": "execute_result"
    }
   ],
   "source": [
    "serps.city.unique()"
   ]
  },
  {
   "cell_type": "code",
   "execution_count": 396,
   "id": "b7585961",
   "metadata": {
    "ExecuteTime": {
     "end_time": "2023-11-27T16:44:03.241137Z",
     "start_time": "2023-11-27T16:44:02.590387Z"
    }
   },
   "outputs": [
    {
     "data": {
      "text/plain": [
       "<AxesSubplot:>"
      ]
     },
     "execution_count": 396,
     "metadata": {},
     "output_type": "execute_result"
    },
    {
     "data": {
      "image/png": "[encoded data removed]",
      "text/plain": [
       "<Figure size 640x480 with 1 Axes>"
      ]
     },
     "metadata": {},
     "output_type": "display_data"
    }
   ],
   "source": [
    "serps.city.hist()"
   ]
  },
  {
   "cell_type": "code",
   "execution_count": 397,
   "id": "8ad07aa1",
   "metadata": {
    "ExecuteTime": {
     "end_time": "2023-11-27T16:44:05.830345Z",
     "start_time": "2023-11-27T16:44:03.243366Z"
    }
   },
   "outputs": [
    {
     "data": {
      "text/html": [
       "<div>\n",
       "<style scoped>\n",
       "    .dataframe tbody tr th:only-of-type {\n",
       "        vertical-align: middle;\n",
       "    }\n",
       "\n",
       "    .dataframe tbody tr th {\n",
       "        vertical-align: top;\n",
       "    }\n",
       "\n",
       "    .dataframe thead th {\n",
       "        text-align: right;\n",
       "    }\n",
       "</style>\n",
       "<table border=\"1\" class=\"dataframe\">\n",
       "  <thead>\n",
       "    <tr style=\"text-align: right;\">\n",
       "      <th></th>\n",
       "      <th>city</th>\n",
       "      <th>vacancy_uniq</th>\n",
       "      <th>vacancy_view</th>\n",
       "      <th>serp_view</th>\n",
       "      <th>serp_uniq</th>\n",
       "    </tr>\n",
       "  </thead>\n",
       "  <tbody>\n",
       "    <tr>\n",
       "      <th>0</th>\n",
       "      <td>Kazan</td>\n",
       "      <td>45220</td>\n",
       "      <td>456466</td>\n",
       "      <td>456466</td>\n",
       "      <td>200000</td>\n",
       "    </tr>\n",
       "    <tr>\n",
       "      <th>1</th>\n",
       "      <td>Moscow</td>\n",
       "      <td>50169</td>\n",
       "      <td>785767</td>\n",
       "      <td>785767</td>\n",
       "      <td>200000</td>\n",
       "    </tr>\n",
       "    <tr>\n",
       "      <th>2</th>\n",
       "      <td>Penza</td>\n",
       "      <td>41881</td>\n",
       "      <td>347974</td>\n",
       "      <td>347974</td>\n",
       "      <td>200000</td>\n",
       "    </tr>\n",
       "    <tr>\n",
       "      <th>3</th>\n",
       "      <td>SPb</td>\n",
       "      <td>47864</td>\n",
       "      <td>592298</td>\n",
       "      <td>592298</td>\n",
       "      <td>200000</td>\n",
       "    </tr>\n",
       "    <tr>\n",
       "      <th>4</th>\n",
       "      <td>Samara</td>\n",
       "      <td>37049</td>\n",
       "      <td>249091</td>\n",
       "      <td>249091</td>\n",
       "      <td>200000</td>\n",
       "    </tr>\n",
       "  </tbody>\n",
       "</table>\n",
       "</div>"
      ],
      "text/plain": [
       "     city  vacancy_uniq  vacancy_view  serp_view  serp_uniq\n",
       "0   Kazan         45220        456466     456466     200000\n",
       "1  Moscow         50169        785767     785767     200000\n",
       "2   Penza         41881        347974     347974     200000\n",
       "3     SPb         47864        592298     592298     200000\n",
       "4  Samara         37049        249091     249091     200000"
      ]
     },
     "execution_count": 397,
     "metadata": {},
     "output_type": "execute_result"
    }
   ],
   "source": [
    "# количество уникальных вакансий/serp'ов и количество их показов по городам\n",
    "vac_city_grouped = serps.groupby('city').agg({\n",
    "    'vacancy_id_conv': [\n",
    "        ('vacancy_uniq', 'nunique'), \n",
    "        ('vacancy_view', 'count')                                               \n",
    "    ],\n",
    "    'request_id': [\n",
    "        ('serp_view', 'count'),\n",
    "        ('serp_uniq', 'nunique')\n",
    "    ]\n",
    "}).droplevel(0, axis=1).reset_index()\n",
    "\n",
    "vac_city_grouped"
   ]
  },
  {
   "cell_type": "markdown",
   "id": "567dfc53",
   "metadata": {},
   "source": [
    "serp'ы на каждый город распределены одинаково"
   ]
  },
  {
   "cell_type": "code",
   "execution_count": 398,
   "id": "74043dff",
   "metadata": {
    "ExecuteTime": {
     "end_time": "2023-11-27T16:44:11.523369Z",
     "start_time": "2023-11-27T16:44:05.832466Z"
    }
   },
   "outputs": [
    {
     "data": {
      "text/html": [
       "<div>\n",
       "<style scoped>\n",
       "    .dataframe tbody tr th:only-of-type {\n",
       "        vertical-align: middle;\n",
       "    }\n",
       "\n",
       "    .dataframe tbody tr th {\n",
       "        vertical-align: top;\n",
       "    }\n",
       "\n",
       "    .dataframe thead th {\n",
       "        text-align: right;\n",
       "    }\n",
       "</style>\n",
       "<table border=\"1\" class=\"dataframe\">\n",
       "  <thead>\n",
       "    <tr style=\"text-align: right;\">\n",
       "      <th></th>\n",
       "      <th>city</th>\n",
       "      <th>request_id</th>\n",
       "      <th>vacancy_id_conv</th>\n",
       "    </tr>\n",
       "  </thead>\n",
       "  <tbody>\n",
       "    <tr>\n",
       "      <th>219623</th>\n",
       "      <td>Moscow</td>\n",
       "      <td>1687161453850e0bd12d3e10d9dbf2d3</td>\n",
       "      <td>50</td>\n",
       "    </tr>\n",
       "    <tr>\n",
       "      <th>312443</th>\n",
       "      <td>Moscow</td>\n",
       "      <td>1687183190272f07c624a6fe233e56af</td>\n",
       "      <td>50</td>\n",
       "    </tr>\n",
       "    <tr>\n",
       "      <th>219707</th>\n",
       "      <td>Moscow</td>\n",
       "      <td>168716148426127cbdf66e34361aef2e</td>\n",
       "      <td>50</td>\n",
       "    </tr>\n",
       "    <tr>\n",
       "      <th>216882</th>\n",
       "      <td>Moscow</td>\n",
       "      <td>1687160372912674ca047352c25f36a2</td>\n",
       "      <td>50</td>\n",
       "    </tr>\n",
       "    <tr>\n",
       "      <th>263545</th>\n",
       "      <td>Moscow</td>\n",
       "      <td>1687172902251a1750dec6b693a56090</td>\n",
       "      <td>50</td>\n",
       "    </tr>\n",
       "    <tr>\n",
       "      <th>...</th>\n",
       "      <td>...</td>\n",
       "      <td>...</td>\n",
       "      <td>...</td>\n",
       "    </tr>\n",
       "    <tr>\n",
       "      <th>497907</th>\n",
       "      <td>Penza</td>\n",
       "      <td>168717659044035b5f9e8d6cf94194d1</td>\n",
       "      <td>1</td>\n",
       "    </tr>\n",
       "    <tr>\n",
       "      <th>497906</th>\n",
       "      <td>Penza</td>\n",
       "      <td>1687176590362e1f5e1047efffab8289</td>\n",
       "      <td>1</td>\n",
       "    </tr>\n",
       "    <tr>\n",
       "      <th>497905</th>\n",
       "      <td>Penza</td>\n",
       "      <td>168717659022948a46719b4bde368246</td>\n",
       "      <td>1</td>\n",
       "    </tr>\n",
       "    <tr>\n",
       "      <th>497904</th>\n",
       "      <td>Penza</td>\n",
       "      <td>1687176589737fcd633fa095e8dd73d2</td>\n",
       "      <td>1</td>\n",
       "    </tr>\n",
       "    <tr>\n",
       "      <th>999999</th>\n",
       "      <td>Samara</td>\n",
       "      <td>168720839921108d450392c9528d9ea3</td>\n",
       "      <td>1</td>\n",
       "    </tr>\n",
       "  </tbody>\n",
       "</table>\n",
       "<p>1000000 rows × 3 columns</p>\n",
       "</div>"
      ],
      "text/plain": [
       "          city                        request_id  vacancy_id_conv\n",
       "219623  Moscow  1687161453850e0bd12d3e10d9dbf2d3               50\n",
       "312443  Moscow  1687183190272f07c624a6fe233e56af               50\n",
       "219707  Moscow  168716148426127cbdf66e34361aef2e               50\n",
       "216882  Moscow  1687160372912674ca047352c25f36a2               50\n",
       "263545  Moscow  1687172902251a1750dec6b693a56090               50\n",
       "...        ...                               ...              ...\n",
       "497907   Penza  168717659044035b5f9e8d6cf94194d1                1\n",
       "497906   Penza  1687176590362e1f5e1047efffab8289                1\n",
       "497905   Penza  168717659022948a46719b4bde368246                1\n",
       "497904   Penza  1687176589737fcd633fa095e8dd73d2                1\n",
       "999999  Samara  168720839921108d450392c9528d9ea3                1\n",
       "\n",
       "[1000000 rows x 3 columns]"
      ]
     },
     "execution_count": 398,
     "metadata": {},
     "output_type": "execute_result"
    }
   ],
   "source": [
    "#количество вакансий на serp в каждом городе\n",
    "vac_in_serp_city = serps.groupby(['city', 'request_id'], as_index=False).agg({\n",
    "    'vacancy_id_conv': 'nunique'})\n",
    "\n",
    "vac_in_serp_city.sort_values(by='vacancy_id_conv', ascending=False)\n"
   ]
  },
  {
   "cell_type": "code",
   "execution_count": 399,
   "id": "f1da286a",
   "metadata": {
    "ExecuteTime": {
     "end_time": "2023-11-27T16:44:11.663684Z",
     "start_time": "2023-11-27T16:44:11.526986Z"
    }
   },
   "outputs": [
    {
     "data": {
      "text/plain": [
       "<AxesSubplot:>"
      ]
     },
     "execution_count": 399,
     "metadata": {},
     "output_type": "execute_result"
    },
    {
     "data": {
      "image/png": "[encoded data removed]",
      "text/plain": [
       "<Figure size 640x480 with 1 Axes>"
      ]
     },
     "metadata": {},
     "output_type": "display_data"
    }
   ],
   "source": [
    "vac_in_serp_city.vacancy_id_conv.hist()"
   ]
  },
  {
   "cell_type": "code",
   "execution_count": 400,
   "id": "ee965601",
   "metadata": {
    "ExecuteTime": {
     "end_time": "2023-11-27T16:44:16.867064Z",
     "start_time": "2023-11-27T16:44:11.666431Z"
    }
   },
   "outputs": [
    {
     "data": {
      "image/png": "[encoded data removed]",
      "text/plain": [
       "<Figure size 1000x1500 with 5 Axes>"
      ]
     },
     "metadata": {},
     "output_type": "display_data"
    }
   ],
   "source": [
    "fig = plt.figure(figsize=(10,15))\n",
    "\n",
    "total_axes = len(serps.city.unique()) # общее количество графиков (в данном случае\n",
    "                             # берем равным количеству городов\n",
    "subplt = 1 # номер начального axes\n",
    "\n",
    "for c in serps.city.unique():\n",
    "    ax = fig.add_subplot(total_axes, 1, subplt) # добавляем axes для каждого графика\n",
    "    sns.histplot(data=vac_in_serp_city.loc[vac_in_serp_city.city == c], x='vacancy_id_conv') # отрисовываем график\n",
    "    subplt+=1\n",
    "    ax.set(xlabel=\"количество вакансий на serp'е\", ylabel='их частотность')\n",
    "    ax.set(title=c) # название города\n",
    "\n",
    "plt.tight_layout()\n",
    "\n",
    "plt.show()\n"
   ]
  },
  {
   "cell_type": "code",
   "execution_count": 401,
   "id": "faae5816",
   "metadata": {
    "ExecuteTime": {
     "end_time": "2023-11-27T16:44:18.693126Z",
     "start_time": "2023-11-27T16:44:16.870352Z"
    }
   },
   "outputs": [
    {
     "data": {
      "text/plain": [
       "array([2, 1, 3, 4, 5], dtype=int64)"
      ]
     },
     "execution_count": 401,
     "metadata": {},
     "output_type": "execute_result"
    }
   ],
   "source": [
    "# ищут ли пользователи одновременно в разных городах\n",
    "serps.groupby('applicant').agg({'city': 'nunique'}).reset_index().city.unique()"
   ]
  },
  {
   "cell_type": "code",
   "execution_count": 402,
   "id": "29fe77c7",
   "metadata": {
    "ExecuteTime": {
     "end_time": "2023-11-27T16:44:20.173698Z",
     "start_time": "2023-11-27T16:44:18.696230Z"
    }
   },
   "outputs": [
    {
     "data": {
      "text/html": [
       "<div>\n",
       "<style scoped>\n",
       "    .dataframe tbody tr th:only-of-type {\n",
       "        vertical-align: middle;\n",
       "    }\n",
       "\n",
       "    .dataframe tbody tr th {\n",
       "        vertical-align: top;\n",
       "    }\n",
       "\n",
       "    .dataframe thead th {\n",
       "        text-align: right;\n",
       "    }\n",
       "</style>\n",
       "<table border=\"1\" class=\"dataframe\">\n",
       "  <thead>\n",
       "    <tr style=\"text-align: right;\">\n",
       "      <th></th>\n",
       "      <th>applicant</th>\n",
       "      <th>city</th>\n",
       "    </tr>\n",
       "  </thead>\n",
       "  <tbody>\n",
       "    <tr>\n",
       "      <th>0</th>\n",
       "      <td>0</td>\n",
       "      <td>2</td>\n",
       "    </tr>\n",
       "    <tr>\n",
       "      <th>1</th>\n",
       "      <td>1</td>\n",
       "      <td>1</td>\n",
       "    </tr>\n",
       "    <tr>\n",
       "      <th>2</th>\n",
       "      <td>2</td>\n",
       "      <td>2</td>\n",
       "    </tr>\n",
       "    <tr>\n",
       "      <th>3</th>\n",
       "      <td>3</td>\n",
       "      <td>1</td>\n",
       "    </tr>\n",
       "    <tr>\n",
       "      <th>4</th>\n",
       "      <td>4</td>\n",
       "      <td>3</td>\n",
       "    </tr>\n",
       "  </tbody>\n",
       "</table>\n",
       "</div>"
      ],
      "text/plain": [
       "   applicant  city\n",
       "0          0     2\n",
       "1          1     1\n",
       "2          2     2\n",
       "3          3     1\n",
       "4          4     3"
      ]
     },
     "execution_count": 402,
     "metadata": {},
     "output_type": "execute_result"
    }
   ],
   "source": [
    "appl_city_grouped = serps.groupby('applicant').agg({'city': 'nunique'}).reset_index()\n",
    "appl_city_grouped.head()"
   ]
  },
  {
   "cell_type": "code",
   "execution_count": 403,
   "id": "8ffa39d6",
   "metadata": {
    "ExecuteTime": {
     "end_time": "2023-11-27T16:44:20.392088Z",
     "start_time": "2023-11-27T16:44:20.175946Z"
    }
   },
   "outputs": [
    {
     "name": "stdout",
     "output_type": "stream",
     "text": [
      "Доля пользователей, ищущих по более чем одной локации:  0.68\n"
     ]
    }
   ],
   "source": [
    "print('Доля пользователей, ищущих по более чем одной локации: ',\\\n",
    "      round(appl_city_grouped.loc[appl_city_grouped.city > 1].applicant.nunique() / serps.applicant.nunique(),2))"
   ]
  },
  {
   "cell_type": "markdown",
   "id": "4df1c58a",
   "metadata": {},
   "source": [
    "### vacs_metrics"
   ]
  },
  {
   "cell_type": "code",
   "execution_count": 404,
   "id": "e08bb17c",
   "metadata": {
    "ExecuteTime": {
     "end_time": "2023-11-27T16:44:20.423758Z",
     "start_time": "2023-11-27T16:44:20.394066Z"
    }
   },
   "outputs": [
    {
     "data": {
      "text/html": [
       "<div>\n",
       "<style scoped>\n",
       "    .dataframe tbody tr th:only-of-type {\n",
       "        vertical-align: middle;\n",
       "    }\n",
       "\n",
       "    .dataframe tbody tr th {\n",
       "        vertical-align: top;\n",
       "    }\n",
       "\n",
       "    .dataframe thead th {\n",
       "        text-align: right;\n",
       "    }\n",
       "</style>\n",
       "<table border=\"1\" class=\"dataframe\">\n",
       "  <thead>\n",
       "    <tr style=\"text-align: right;\">\n",
       "      <th></th>\n",
       "      <th>vacancy_id_conv</th>\n",
       "      <th>metric_full</th>\n",
       "      <th>emplpyer_id</th>\n",
       "    </tr>\n",
       "  </thead>\n",
       "  <tbody>\n",
       "    <tr>\n",
       "      <th>0</th>\n",
       "      <td>1</td>\n",
       "      <td>5.250818</td>\n",
       "      <td>640</td>\n",
       "    </tr>\n",
       "    <tr>\n",
       "      <th>1</th>\n",
       "      <td>2</td>\n",
       "      <td>5.808587</td>\n",
       "      <td>5123</td>\n",
       "    </tr>\n",
       "    <tr>\n",
       "      <th>2</th>\n",
       "      <td>3</td>\n",
       "      <td>2.830297</td>\n",
       "      <td>3325</td>\n",
       "    </tr>\n",
       "    <tr>\n",
       "      <th>3</th>\n",
       "      <td>4</td>\n",
       "      <td>5.179469</td>\n",
       "      <td>3511</td>\n",
       "    </tr>\n",
       "    <tr>\n",
       "      <th>4</th>\n",
       "      <td>5</td>\n",
       "      <td>5.457955</td>\n",
       "      <td>6604</td>\n",
       "    </tr>\n",
       "  </tbody>\n",
       "</table>\n",
       "</div>"
      ],
      "text/plain": [
       "   vacancy_id_conv  metric_full  emplpyer_id\n",
       "0                1     5.250818          640\n",
       "1                2     5.808587         5123\n",
       "2                3     2.830297         3325\n",
       "3                4     5.179469         3511\n",
       "4                5     5.457955         6604"
      ]
     },
     "metadata": {},
     "output_type": "display_data"
    },
    {
     "name": "stdout",
     "output_type": "stream",
     "text": [
      "<class 'pandas.core.frame.DataFrame'>\n",
      "RangeIndex: 55500 entries, 0 to 55499\n",
      "Data columns (total 3 columns):\n",
      " #   Column           Non-Null Count  Dtype  \n",
      "---  ------           --------------  -----  \n",
      " 0   vacancy_id_conv  55500 non-null  int64  \n",
      " 1   metric_full      55500 non-null  float64\n",
      " 2   emplpyer_id      55500 non-null  int64  \n",
      "dtypes: float64(1), int64(2)\n",
      "memory usage: 1.3 MB\n",
      "None\n",
      "Количество полных дубликатов в датафрейме 0\n"
     ]
    }
   ],
   "source": [
    "describe_df(vacs_metrics) "
   ]
  },
  {
   "cell_type": "markdown",
   "id": "7004b3b7",
   "metadata": {},
   "source": [
    "пропусков нет\\\n",
    "типы данных корректные"
   ]
  },
  {
   "cell_type": "code",
   "execution_count": 405,
   "id": "6ef87c84",
   "metadata": {
    "ExecuteTime": {
     "end_time": "2023-11-27T16:44:20.439852Z",
     "start_time": "2023-11-27T16:44:20.425760Z"
    }
   },
   "outputs": [
    {
     "data": {
      "text/plain": [
       "Index(['vacancy_id_conv', 'metric_full', 'employer_id'], dtype='object')"
      ]
     },
     "execution_count": 405,
     "metadata": {},
     "output_type": "execute_result"
    }
   ],
   "source": [
    "vacs_metrics.columns = vacs_metrics.columns.str.replace('emplpyer_id', 'employer_id')\n",
    "vacs_metrics.columns"
   ]
  },
  {
   "cell_type": "code",
   "execution_count": 406,
   "id": "436ef28b",
   "metadata": {
    "ExecuteTime": {
     "end_time": "2023-11-27T16:44:20.565253Z",
     "start_time": "2023-11-27T16:44:20.442096Z"
    }
   },
   "outputs": [
    {
     "data": {
      "text/plain": [
       "<AxesSubplot:>"
      ]
     },
     "execution_count": 406,
     "metadata": {},
     "output_type": "execute_result"
    },
    {
     "data": {
      "image/png": "[encoded data removed]",
      "text/plain": [
       "<Figure size 640x480 with 1 Axes>"
      ]
     },
     "metadata": {},
     "output_type": "display_data"
    }
   ],
   "source": [
    "# распределение значений метрики вакансий\n",
    "vacs_metrics.metric_full.hist()"
   ]
  },
  {
   "cell_type": "markdown",
   "id": "48934786",
   "metadata": {},
   "source": [
    "### Агрегация"
   ]
  },
  {
   "cell_type": "code",
   "execution_count": 407,
   "id": "e5c76af0",
   "metadata": {
    "ExecuteTime": {
     "end_time": "2023-11-27T16:44:21.172658Z",
     "start_time": "2023-11-27T16:44:20.568250Z"
    }
   },
   "outputs": [],
   "source": [
    "df_agg = serps.merge(vacs_metrics, how='left', left_on='vacancy_id_conv', right_on='vacancy_id_conv')"
   ]
  },
  {
   "cell_type": "code",
   "execution_count": 408,
   "id": "802cf68a",
   "metadata": {
    "ExecuteTime": {
     "end_time": "2023-11-27T16:44:21.203977Z",
     "start_time": "2023-11-27T16:44:21.174925Z"
    }
   },
   "outputs": [
    {
     "data": {
      "text/html": [
       "<div>\n",
       "<style scoped>\n",
       "    .dataframe tbody tr th:only-of-type {\n",
       "        vertical-align: middle;\n",
       "    }\n",
       "\n",
       "    .dataframe tbody tr th {\n",
       "        vertical-align: top;\n",
       "    }\n",
       "\n",
       "    .dataframe thead th {\n",
       "        text-align: right;\n",
       "    }\n",
       "</style>\n",
       "<table border=\"1\" class=\"dataframe\">\n",
       "  <thead>\n",
       "    <tr style=\"text-align: right;\">\n",
       "      <th></th>\n",
       "      <th>request_id</th>\n",
       "      <th>vacancy_id_conv</th>\n",
       "      <th>city</th>\n",
       "      <th>applicant</th>\n",
       "      <th>metric_full</th>\n",
       "      <th>employer_id</th>\n",
       "    </tr>\n",
       "  </thead>\n",
       "  <tbody>\n",
       "    <tr>\n",
       "      <th>0</th>\n",
       "      <td>168719525526659303f2dee867dc6eda</td>\n",
       "      <td>48019</td>\n",
       "      <td>Moscow</td>\n",
       "      <td>78076</td>\n",
       "      <td>3.869807</td>\n",
       "      <td>4815</td>\n",
       "    </tr>\n",
       "    <tr>\n",
       "      <th>1</th>\n",
       "      <td>168719525526659303f2dee867dc6eda</td>\n",
       "      <td>45120</td>\n",
       "      <td>Moscow</td>\n",
       "      <td>614859</td>\n",
       "      <td>5.460877</td>\n",
       "      <td>377</td>\n",
       "    </tr>\n",
       "    <tr>\n",
       "      <th>2</th>\n",
       "      <td>168719525526659303f2dee867dc6eda</td>\n",
       "      <td>18132</td>\n",
       "      <td>Moscow</td>\n",
       "      <td>175212</td>\n",
       "      <td>3.836248</td>\n",
       "      <td>1063</td>\n",
       "    </tr>\n",
       "    <tr>\n",
       "      <th>3</th>\n",
       "      <td>168719525526659303f2dee867dc6eda</td>\n",
       "      <td>29942</td>\n",
       "      <td>Moscow</td>\n",
       "      <td>322643</td>\n",
       "      <td>4.380258</td>\n",
       "      <td>1894</td>\n",
       "    </tr>\n",
       "    <tr>\n",
       "      <th>4</th>\n",
       "      <td>168719525526659303f2dee867dc6eda</td>\n",
       "      <td>32658</td>\n",
       "      <td>Moscow</td>\n",
       "      <td>722260</td>\n",
       "      <td>4.741439</td>\n",
       "      <td>4902</td>\n",
       "    </tr>\n",
       "  </tbody>\n",
       "</table>\n",
       "</div>"
      ],
      "text/plain": [
       "                         request_id  vacancy_id_conv    city  applicant  \\\n",
       "0  168719525526659303f2dee867dc6eda            48019  Moscow      78076   \n",
       "1  168719525526659303f2dee867dc6eda            45120  Moscow     614859   \n",
       "2  168719525526659303f2dee867dc6eda            18132  Moscow     175212   \n",
       "3  168719525526659303f2dee867dc6eda            29942  Moscow     322643   \n",
       "4  168719525526659303f2dee867dc6eda            32658  Moscow     722260   \n",
       "\n",
       "   metric_full  employer_id  \n",
       "0     3.869807         4815  \n",
       "1     5.460877          377  \n",
       "2     3.836248         1063  \n",
       "3     4.380258         1894  \n",
       "4     4.741439         4902  "
      ]
     },
     "execution_count": 408,
     "metadata": {},
     "output_type": "execute_result"
    }
   ],
   "source": [
    "df_agg.head()"
   ]
  },
  {
   "cell_type": "code",
   "execution_count": 409,
   "id": "0137ae48",
   "metadata": {
    "ExecuteTime": {
     "end_time": "2023-11-27T16:44:23.479143Z",
     "start_time": "2023-11-27T16:44:21.206952Z"
    }
   },
   "outputs": [],
   "source": [
    "df2 = df_agg.groupby('city', as_index=False).agg({'vacancy_id_conv': 'nunique'})"
   ]
  },
  {
   "cell_type": "code",
   "execution_count": 410,
   "id": "230c1c09",
   "metadata": {
    "ExecuteTime": {
     "end_time": "2023-11-27T16:44:23.682327Z",
     "start_time": "2023-11-27T16:44:23.487685Z"
    }
   },
   "outputs": [],
   "source": [
    "metrics = df_agg.query('metric_full < 3').groupby('city', as_index=False).agg({'vacancy_id_conv': 'nunique'})\\\n",
    "        .merge(df2, left_on='city', right_on='city', suffixes=('_less_3', '_all'))\n",
    "\n",
    "#metrics"
   ]
  },
  {
   "cell_type": "code",
   "execution_count": 411,
   "id": "bce12a80",
   "metadata": {
    "ExecuteTime": {
     "end_time": "2023-11-27T16:44:23.713404Z",
     "start_time": "2023-11-27T16:44:23.685437Z"
    }
   },
   "outputs": [
    {
     "data": {
      "text/html": [
       "<div>\n",
       "<style scoped>\n",
       "    .dataframe tbody tr th:only-of-type {\n",
       "        vertical-align: middle;\n",
       "    }\n",
       "\n",
       "    .dataframe tbody tr th {\n",
       "        vertical-align: top;\n",
       "    }\n",
       "\n",
       "    .dataframe thead th {\n",
       "        text-align: right;\n",
       "    }\n",
       "</style>\n",
       "<table border=\"1\" class=\"dataframe\">\n",
       "  <thead>\n",
       "    <tr style=\"text-align: right;\">\n",
       "      <th></th>\n",
       "      <th>city</th>\n",
       "      <th>vacancy_id_conv_less_3</th>\n",
       "      <th>vacancy_id_conv_all</th>\n",
       "      <th>share_less_3</th>\n",
       "    </tr>\n",
       "  </thead>\n",
       "  <tbody>\n",
       "    <tr>\n",
       "      <th>4</th>\n",
       "      <td>Samara</td>\n",
       "      <td>811</td>\n",
       "      <td>37049</td>\n",
       "      <td>0.022</td>\n",
       "    </tr>\n",
       "    <tr>\n",
       "      <th>2</th>\n",
       "      <td>Penza</td>\n",
       "      <td>2250</td>\n",
       "      <td>41881</td>\n",
       "      <td>0.054</td>\n",
       "    </tr>\n",
       "    <tr>\n",
       "      <th>0</th>\n",
       "      <td>Kazan</td>\n",
       "      <td>4117</td>\n",
       "      <td>45220</td>\n",
       "      <td>0.091</td>\n",
       "    </tr>\n",
       "    <tr>\n",
       "      <th>3</th>\n",
       "      <td>SPb</td>\n",
       "      <td>5715</td>\n",
       "      <td>47864</td>\n",
       "      <td>0.119</td>\n",
       "    </tr>\n",
       "    <tr>\n",
       "      <th>1</th>\n",
       "      <td>Moscow</td>\n",
       "      <td>6936</td>\n",
       "      <td>50169</td>\n",
       "      <td>0.138</td>\n",
       "    </tr>\n",
       "  </tbody>\n",
       "</table>\n",
       "</div>"
      ],
      "text/plain": [
       "     city  vacancy_id_conv_less_3  vacancy_id_conv_all  share_less_3\n",
       "4  Samara                     811                37049         0.022\n",
       "2   Penza                    2250                41881         0.054\n",
       "0   Kazan                    4117                45220         0.091\n",
       "3     SPb                    5715                47864         0.119\n",
       "1  Moscow                    6936                50169         0.138"
      ]
     },
     "execution_count": 411,
     "metadata": {},
     "output_type": "execute_result"
    }
   ],
   "source": [
    "# Доли вакансий со скором меньше 3х по городам (уникальных, а не просмотров)\n",
    "metrics['share_less_3'] = round(metrics.vacancy_id_conv_less_3 / metrics.vacancy_id_conv_all,3)\n",
    "metrics.sort_values(by='share_less_3')"
   ]
  },
  {
   "cell_type": "markdown",
   "id": "792c5f90",
   "metadata": {},
   "source": [
    "### Выбросы + корреляция"
   ]
  },
  {
   "cell_type": "markdown",
   "id": "1bb67208",
   "metadata": {},
   "source": [
    "посмотрим корреляцию с значением метрики вакансии и количеством ее просмотров"
   ]
  },
  {
   "cell_type": "code",
   "execution_count": 412,
   "id": "5e4d0178",
   "metadata": {
    "ExecuteTime": {
     "end_time": "2023-11-27T16:44:27.481038Z",
     "start_time": "2023-11-27T16:44:23.715398Z"
    }
   },
   "outputs": [
    {
     "data": {
      "text/html": [
       "<div>\n",
       "<style scoped>\n",
       "    .dataframe tbody tr th:only-of-type {\n",
       "        vertical-align: middle;\n",
       "    }\n",
       "\n",
       "    .dataframe tbody tr th {\n",
       "        vertical-align: top;\n",
       "    }\n",
       "\n",
       "    .dataframe thead th {\n",
       "        text-align: right;\n",
       "    }\n",
       "</style>\n",
       "<table border=\"1\" class=\"dataframe\">\n",
       "  <thead>\n",
       "    <tr style=\"text-align: right;\">\n",
       "      <th></th>\n",
       "      <th>vac_views</th>\n",
       "      <th>vac_metric_full</th>\n",
       "    </tr>\n",
       "    <tr>\n",
       "      <th>vacancy_id_conv</th>\n",
       "      <th></th>\n",
       "      <th></th>\n",
       "    </tr>\n",
       "  </thead>\n",
       "  <tbody>\n",
       "    <tr>\n",
       "      <th>13960</th>\n",
       "      <td>22899</td>\n",
       "      <td>4.503478</td>\n",
       "    </tr>\n",
       "    <tr>\n",
       "      <th>15681</th>\n",
       "      <td>21270</td>\n",
       "      <td>5.649831</td>\n",
       "    </tr>\n",
       "    <tr>\n",
       "      <th>16444</th>\n",
       "      <td>9180</td>\n",
       "      <td>4.480863</td>\n",
       "    </tr>\n",
       "    <tr>\n",
       "      <th>34321</th>\n",
       "      <td>4966</td>\n",
       "      <td>6.718756</td>\n",
       "    </tr>\n",
       "    <tr>\n",
       "      <th>7841</th>\n",
       "      <td>4264</td>\n",
       "      <td>5.387956</td>\n",
       "    </tr>\n",
       "    <tr>\n",
       "      <th>...</th>\n",
       "      <td>...</td>\n",
       "      <td>...</td>\n",
       "    </tr>\n",
       "    <tr>\n",
       "      <th>32226</th>\n",
       "      <td>1</td>\n",
       "      <td>1.598269</td>\n",
       "    </tr>\n",
       "    <tr>\n",
       "      <th>32207</th>\n",
       "      <td>1</td>\n",
       "      <td>4.902596</td>\n",
       "    </tr>\n",
       "    <tr>\n",
       "      <th>52985</th>\n",
       "      <td>1</td>\n",
       "      <td>2.152986</td>\n",
       "    </tr>\n",
       "    <tr>\n",
       "      <th>52989</th>\n",
       "      <td>1</td>\n",
       "      <td>2.176773</td>\n",
       "    </tr>\n",
       "    <tr>\n",
       "      <th>58346</th>\n",
       "      <td>1</td>\n",
       "      <td>4.093952</td>\n",
       "    </tr>\n",
       "  </tbody>\n",
       "</table>\n",
       "<p>55500 rows × 2 columns</p>\n",
       "</div>"
      ],
      "text/plain": [
       "                 vac_views  vac_metric_full\n",
       "vacancy_id_conv                            \n",
       "13960                22899         4.503478\n",
       "15681                21270         5.649831\n",
       "16444                 9180         4.480863\n",
       "34321                 4966         6.718756\n",
       "7841                  4264         5.387956\n",
       "...                    ...              ...\n",
       "32226                    1         1.598269\n",
       "32207                    1         4.902596\n",
       "52985                    1         2.152986\n",
       "52989                    1         2.176773\n",
       "58346                    1         4.093952\n",
       "\n",
       "[55500 rows x 2 columns]"
      ]
     },
     "execution_count": 412,
     "metadata": {},
     "output_type": "execute_result"
    }
   ],
   "source": [
    "vac_characteristics = df_agg.groupby('vacancy_id_conv').agg({\n",
    "    'metric_full': [\n",
    "        ('vac_views', 'count'),\n",
    "        ('vac_metric_full', 'unique'),\n",
    "    ]\n",
    "}).droplevel(0, axis=1)#.reset_index()\n",
    "\n",
    "vac_characteristics['vac_metric_full'] = vac_characteristics['vac_metric_full'].astype('float')\n",
    "\n",
    "vac_characteristics.sort_values(by='vac_views', ascending=False)"
   ]
  },
  {
   "cell_type": "markdown",
   "id": "d0d76d1a",
   "metadata": {},
   "source": [
    "в данных есть странные оценки (выше 3х для всего 1го просмотра)"
   ]
  },
  {
   "cell_type": "code",
   "execution_count": 413,
   "id": "2f5ba8e6",
   "metadata": {
    "ExecuteTime": {
     "end_time": "2023-11-27T16:44:27.701202Z",
     "start_time": "2023-11-27T16:44:27.484042Z"
    }
   },
   "outputs": [
    {
     "data": {
      "image/png": "[encoded data removed]",
      "text/plain": [
       "<Figure size 640x480 with 1 Axes>"
      ]
     },
     "metadata": {},
     "output_type": "display_data"
    },
    {
     "data": {
      "image/png": "[encoded data removed]",
      "text/plain": [
       "<Figure size 640x480 with 1 Axes>"
      ]
     },
     "metadata": {},
     "output_type": "display_data"
    }
   ],
   "source": [
    "sns.boxplot(x=vac_characteristics['vac_views'])\n",
    "plt.title('Ящик с усами по количеству просмотров на вакансию')\n",
    "plt.xlabel('количество просмотров с учетом выбросов')\n",
    "plt.show()\n",
    "\n",
    "sns.boxplot(x=vac_characteristics['vac_views'])\n",
    "plt.xlim(0,100)\n",
    "plt.title('Ящик с усами по количеству просмотров на вакансию')\n",
    "plt.xlabel('количество просмотров')\n",
    "plt.show()"
   ]
  },
  {
   "cell_type": "code",
   "execution_count": 414,
   "id": "63b6fe0f",
   "metadata": {
    "ExecuteTime": {
     "end_time": "2023-11-27T16:44:27.716245Z",
     "start_time": "2023-11-27T16:44:27.704253Z"
    }
   },
   "outputs": [
    {
     "data": {
      "text/plain": [
       "86.0"
      ]
     },
     "execution_count": 414,
     "metadata": {},
     "output_type": "execute_result"
    }
   ],
   "source": [
    "# граница выбросов\n",
    "q1, q3 = np.percentile(vac_characteristics['vac_views'], [25, 75])\n",
    "boarder = (q3 - q1) * 1.5 + q3\n",
    "boarder"
   ]
  },
  {
   "cell_type": "code",
   "execution_count": 415,
   "id": "bbd97227",
   "metadata": {
    "ExecuteTime": {
     "end_time": "2023-11-27T16:44:28.298163Z",
     "start_time": "2023-11-27T16:44:27.719249Z"
    }
   },
   "outputs": [
    {
     "data": {
      "image/png": "[encoded data removed]",
      "text/plain": [
       "<Figure size 640x480 with 1 Axes>"
      ]
     },
     "metadata": {},
     "output_type": "display_data"
    },
    {
     "data": {
      "image/png": "[encoded data removed]",
      "text/plain": [
       "<Figure size 640x480 with 1 Axes>"
      ]
     },
     "metadata": {},
     "output_type": "display_data"
    }
   ],
   "source": [
    "sns.scatterplot(data=vac_characteristics, x=\"vac_metric_full\", y=\"vac_views\")\n",
    "plt.show()\n",
    "\n",
    "sns.scatterplot(data=vac_characteristics, x=\"vac_metric_full\", y=\"vac_views\")\n",
    "plt.ylim(86,2000)\n",
    "plt.xlim(0,3)\n",
    "plt.show()"
   ]
  },
  {
   "cell_type": "code",
   "execution_count": 416,
   "id": "02e30ff5",
   "metadata": {
    "ExecuteTime": {
     "end_time": "2023-11-27T16:44:28.314182Z",
     "start_time": "2023-11-27T16:44:28.300161Z"
    }
   },
   "outputs": [
    {
     "name": "stdout",
     "output_type": "stream",
     "text": [
      "0.08864690285282144\n"
     ]
    }
   ],
   "source": [
    "print(vac_characteristics['vac_views'].corr(vac_characteristics['vac_metric_full']))"
   ]
  },
  {
   "cell_type": "code",
   "execution_count": 417,
   "id": "89a9ec52",
   "metadata": {
    "ExecuteTime": {
     "end_time": "2023-11-27T16:44:28.350798Z",
     "start_time": "2023-11-27T16:44:28.317192Z"
    }
   },
   "outputs": [
    {
     "data": {
      "text/html": [
       "<div>\n",
       "<style scoped>\n",
       "    .dataframe tbody tr th:only-of-type {\n",
       "        vertical-align: middle;\n",
       "    }\n",
       "\n",
       "    .dataframe tbody tr th {\n",
       "        vertical-align: top;\n",
       "    }\n",
       "\n",
       "    .dataframe thead th {\n",
       "        text-align: right;\n",
       "    }\n",
       "</style>\n",
       "<table border=\"1\" class=\"dataframe\">\n",
       "  <thead>\n",
       "    <tr style=\"text-align: right;\">\n",
       "      <th></th>\n",
       "      <th>vac_views</th>\n",
       "      <th>vac_metric_full</th>\n",
       "    </tr>\n",
       "    <tr>\n",
       "      <th>vacancy_id_conv</th>\n",
       "      <th></th>\n",
       "      <th></th>\n",
       "    </tr>\n",
       "  </thead>\n",
       "  <tbody>\n",
       "    <tr>\n",
       "      <th>26751</th>\n",
       "      <td>1351</td>\n",
       "      <td>1.712720</td>\n",
       "    </tr>\n",
       "    <tr>\n",
       "      <th>21977</th>\n",
       "      <td>991</td>\n",
       "      <td>2.827330</td>\n",
       "    </tr>\n",
       "    <tr>\n",
       "      <th>29324</th>\n",
       "      <td>802</td>\n",
       "      <td>1.757827</td>\n",
       "    </tr>\n",
       "    <tr>\n",
       "      <th>28417</th>\n",
       "      <td>795</td>\n",
       "      <td>2.871341</td>\n",
       "    </tr>\n",
       "    <tr>\n",
       "      <th>7527</th>\n",
       "      <td>787</td>\n",
       "      <td>2.433510</td>\n",
       "    </tr>\n",
       "    <tr>\n",
       "      <th>...</th>\n",
       "      <td>...</td>\n",
       "      <td>...</td>\n",
       "    </tr>\n",
       "    <tr>\n",
       "      <th>21861</th>\n",
       "      <td>89</td>\n",
       "      <td>2.712948</td>\n",
       "    </tr>\n",
       "    <tr>\n",
       "      <th>36020</th>\n",
       "      <td>88</td>\n",
       "      <td>2.893170</td>\n",
       "    </tr>\n",
       "    <tr>\n",
       "      <th>9696</th>\n",
       "      <td>87</td>\n",
       "      <td>2.548448</td>\n",
       "    </tr>\n",
       "    <tr>\n",
       "      <th>14141</th>\n",
       "      <td>87</td>\n",
       "      <td>2.824739</td>\n",
       "    </tr>\n",
       "    <tr>\n",
       "      <th>15520</th>\n",
       "      <td>87</td>\n",
       "      <td>2.513987</td>\n",
       "    </tr>\n",
       "  </tbody>\n",
       "</table>\n",
       "<p>122 rows × 2 columns</p>\n",
       "</div>"
      ],
      "text/plain": [
       "                 vac_views  vac_metric_full\n",
       "vacancy_id_conv                            \n",
       "26751                 1351         1.712720\n",
       "21977                  991         2.827330\n",
       "29324                  802         1.757827\n",
       "28417                  795         2.871341\n",
       "7527                   787         2.433510\n",
       "...                    ...              ...\n",
       "21861                   89         2.712948\n",
       "36020                   88         2.893170\n",
       "9696                    87         2.548448\n",
       "14141                   87         2.824739\n",
       "15520                   87         2.513987\n",
       "\n",
       "[122 rows x 2 columns]"
      ]
     },
     "execution_count": 417,
     "metadata": {},
     "output_type": "execute_result"
    }
   ],
   "source": [
    "vac_characteristics.query('vac_views > @boarder & vac_metric_full < 3')\\\n",
    "            .sort_values(by='vac_views', ascending=False)"
   ]
  },
  {
   "cell_type": "code",
   "execution_count": 418,
   "id": "7866489c",
   "metadata": {
    "ExecuteTime": {
     "end_time": "2023-11-27T16:44:28.365923Z",
     "start_time": "2023-11-27T16:44:28.353806Z"
    }
   },
   "outputs": [],
   "source": [
    "vac_views_median = vac_characteristics.vac_views.median()\n",
    "vac_views_mean = vac_characteristics.vac_views.mean()"
   ]
  },
  {
   "cell_type": "code",
   "execution_count": 419,
   "id": "f995dc94",
   "metadata": {
    "ExecuteTime": {
     "end_time": "2023-11-27T16:44:28.386381Z",
     "start_time": "2023-11-27T16:44:28.369231Z"
    }
   },
   "outputs": [
    {
     "data": {
      "text/html": [
       "<div>\n",
       "<style scoped>\n",
       "    .dataframe tbody tr th:only-of-type {\n",
       "        vertical-align: middle;\n",
       "    }\n",
       "\n",
       "    .dataframe tbody tr th {\n",
       "        vertical-align: top;\n",
       "    }\n",
       "\n",
       "    .dataframe thead th {\n",
       "        text-align: right;\n",
       "    }\n",
       "</style>\n",
       "<table border=\"1\" class=\"dataframe\">\n",
       "  <thead>\n",
       "    <tr style=\"text-align: right;\">\n",
       "      <th></th>\n",
       "      <th>vac_views</th>\n",
       "      <th>vac_metric_full</th>\n",
       "    </tr>\n",
       "    <tr>\n",
       "      <th>vacancy_id_conv</th>\n",
       "      <th></th>\n",
       "      <th></th>\n",
       "    </tr>\n",
       "  </thead>\n",
       "  <tbody>\n",
       "    <tr>\n",
       "      <th>38920</th>\n",
       "      <td>14</td>\n",
       "      <td>2.640562</td>\n",
       "    </tr>\n",
       "    <tr>\n",
       "      <th>6141</th>\n",
       "      <td>14</td>\n",
       "      <td>1.594543</td>\n",
       "    </tr>\n",
       "    <tr>\n",
       "      <th>34734</th>\n",
       "      <td>14</td>\n",
       "      <td>2.481161</td>\n",
       "    </tr>\n",
       "    <tr>\n",
       "      <th>6341</th>\n",
       "      <td>14</td>\n",
       "      <td>2.834281</td>\n",
       "    </tr>\n",
       "    <tr>\n",
       "      <th>22880</th>\n",
       "      <td>14</td>\n",
       "      <td>2.775830</td>\n",
       "    </tr>\n",
       "    <tr>\n",
       "      <th>...</th>\n",
       "      <td>...</td>\n",
       "      <td>...</td>\n",
       "    </tr>\n",
       "    <tr>\n",
       "      <th>30838</th>\n",
       "      <td>1</td>\n",
       "      <td>1.948497</td>\n",
       "    </tr>\n",
       "    <tr>\n",
       "      <th>42394</th>\n",
       "      <td>1</td>\n",
       "      <td>1.274727</td>\n",
       "    </tr>\n",
       "    <tr>\n",
       "      <th>50903</th>\n",
       "      <td>1</td>\n",
       "      <td>0.092446</td>\n",
       "    </tr>\n",
       "    <tr>\n",
       "      <th>17206</th>\n",
       "      <td>1</td>\n",
       "      <td>0.738522</td>\n",
       "    </tr>\n",
       "    <tr>\n",
       "      <th>48930</th>\n",
       "      <td>1</td>\n",
       "      <td>2.153568</td>\n",
       "    </tr>\n",
       "  </tbody>\n",
       "</table>\n",
       "<p>7437 rows × 2 columns</p>\n",
       "</div>"
      ],
      "text/plain": [
       "                 vac_views  vac_metric_full\n",
       "vacancy_id_conv                            \n",
       "38920                   14         2.640562\n",
       "6141                    14         1.594543\n",
       "34734                   14         2.481161\n",
       "6341                    14         2.834281\n",
       "22880                   14         2.775830\n",
       "...                    ...              ...\n",
       "30838                    1         1.948497\n",
       "42394                    1         1.274727\n",
       "50903                    1         0.092446\n",
       "17206                    1         0.738522\n",
       "48930                    1         2.153568\n",
       "\n",
       "[7437 rows x 2 columns]"
      ]
     },
     "execution_count": 419,
     "metadata": {},
     "output_type": "execute_result"
    }
   ],
   "source": [
    "vac_characteristics.query('vac_views < @vac_views_median & vac_metric_full < 3')\\\n",
    "            .sort_values(by='vac_views', ascending=False)"
   ]
  },
  {
   "cell_type": "code",
   "execution_count": 420,
   "id": "16e33d97",
   "metadata": {
    "ExecuteTime": {
     "end_time": "2023-11-27T16:44:28.416937Z",
     "start_time": "2023-11-27T16:44:28.387173Z"
    }
   },
   "outputs": [
    {
     "data": {
      "text/html": [
       "<div>\n",
       "<style scoped>\n",
       "    .dataframe tbody tr th:only-of-type {\n",
       "        vertical-align: middle;\n",
       "    }\n",
       "\n",
       "    .dataframe tbody tr th {\n",
       "        vertical-align: top;\n",
       "    }\n",
       "\n",
       "    .dataframe thead th {\n",
       "        text-align: right;\n",
       "    }\n",
       "</style>\n",
       "<table border=\"1\" class=\"dataframe\">\n",
       "  <thead>\n",
       "    <tr style=\"text-align: right;\">\n",
       "      <th></th>\n",
       "      <th>vac_views</th>\n",
       "      <th>vac_metric_full</th>\n",
       "    </tr>\n",
       "    <tr>\n",
       "      <th>vacancy_id_conv</th>\n",
       "      <th></th>\n",
       "      <th></th>\n",
       "    </tr>\n",
       "  </thead>\n",
       "  <tbody>\n",
       "    <tr>\n",
       "      <th>21088</th>\n",
       "      <td>43</td>\n",
       "      <td>2.901131</td>\n",
       "    </tr>\n",
       "    <tr>\n",
       "      <th>29046</th>\n",
       "      <td>43</td>\n",
       "      <td>2.223140</td>\n",
       "    </tr>\n",
       "    <tr>\n",
       "      <th>15392</th>\n",
       "      <td>43</td>\n",
       "      <td>2.036407</td>\n",
       "    </tr>\n",
       "    <tr>\n",
       "      <th>12291</th>\n",
       "      <td>43</td>\n",
       "      <td>2.281136</td>\n",
       "    </tr>\n",
       "    <tr>\n",
       "      <th>19426</th>\n",
       "      <td>43</td>\n",
       "      <td>2.906876</td>\n",
       "    </tr>\n",
       "    <tr>\n",
       "      <th>...</th>\n",
       "      <td>...</td>\n",
       "      <td>...</td>\n",
       "    </tr>\n",
       "    <tr>\n",
       "      <th>52011</th>\n",
       "      <td>1</td>\n",
       "      <td>1.745798</td>\n",
       "    </tr>\n",
       "    <tr>\n",
       "      <th>39830</th>\n",
       "      <td>1</td>\n",
       "      <td>0.651998</td>\n",
       "    </tr>\n",
       "    <tr>\n",
       "      <th>26831</th>\n",
       "      <td>1</td>\n",
       "      <td>1.430631</td>\n",
       "    </tr>\n",
       "    <tr>\n",
       "      <th>26834</th>\n",
       "      <td>1</td>\n",
       "      <td>2.976513</td>\n",
       "    </tr>\n",
       "    <tr>\n",
       "      <th>26824</th>\n",
       "      <td>1</td>\n",
       "      <td>2.474860</td>\n",
       "    </tr>\n",
       "  </tbody>\n",
       "</table>\n",
       "<p>8203 rows × 2 columns</p>\n",
       "</div>"
      ],
      "text/plain": [
       "                 vac_views  vac_metric_full\n",
       "vacancy_id_conv                            \n",
       "21088                   43         2.901131\n",
       "29046                   43         2.223140\n",
       "15392                   43         2.036407\n",
       "12291                   43         2.281136\n",
       "19426                   43         2.906876\n",
       "...                    ...              ...\n",
       "52011                    1         1.745798\n",
       "39830                    1         0.651998\n",
       "26831                    1         1.430631\n",
       "26834                    1         2.976513\n",
       "26824                    1         2.474860\n",
       "\n",
       "[8203 rows x 2 columns]"
      ]
     },
     "execution_count": 420,
     "metadata": {},
     "output_type": "execute_result"
    }
   ],
   "source": [
    "vac_characteristics.query('vac_views < @vac_views_mean & vac_metric_full < 3')\\\n",
    "            .sort_values(by='vac_views', ascending=False)"
   ]
  },
  {
   "cell_type": "markdown",
   "id": "f4d5c663",
   "metadata": {},
   "source": [
    "Возможно, скор считается не так, как было указано в ответе эксперта в качестве примера. В выполненном решении с этим фактом ничего не делалось, так как мы все-таки не знаем ничего о системе расчета скора.\n",
    "\n",
    "Вывод: рекомендуем проверить корректность работы расчеты скора перед проведением теста."
   ]
  },
  {
   "cell_type": "markdown",
   "id": "0a4cfe15",
   "metadata": {},
   "source": [
    "### Поиск зависимостей"
   ]
  },
  {
   "cell_type": "code",
   "execution_count": 421,
   "id": "24a0785b",
   "metadata": {
    "ExecuteTime": {
     "end_time": "2023-11-27T16:44:31.513265Z",
     "start_time": "2023-11-27T16:44:28.420515Z"
    }
   },
   "outputs": [
    {
     "data": {
      "text/html": [
       "<div>\n",
       "<style scoped>\n",
       "    .dataframe tbody tr th:only-of-type {\n",
       "        vertical-align: middle;\n",
       "    }\n",
       "\n",
       "    .dataframe tbody tr th {\n",
       "        vertical-align: top;\n",
       "    }\n",
       "\n",
       "    .dataframe thead th {\n",
       "        text-align: right;\n",
       "    }\n",
       "</style>\n",
       "<table border=\"1\" class=\"dataframe\">\n",
       "  <thead>\n",
       "    <tr style=\"text-align: right;\">\n",
       "      <th></th>\n",
       "      <th>request_id</th>\n",
       "    </tr>\n",
       "    <tr>\n",
       "      <th>applicant</th>\n",
       "      <th></th>\n",
       "    </tr>\n",
       "  </thead>\n",
       "  <tbody>\n",
       "    <tr>\n",
       "      <th>903199</th>\n",
       "      <td>12</td>\n",
       "    </tr>\n",
       "    <tr>\n",
       "      <th>570977</th>\n",
       "      <td>12</td>\n",
       "    </tr>\n",
       "    <tr>\n",
       "      <th>251150</th>\n",
       "      <td>12</td>\n",
       "    </tr>\n",
       "    <tr>\n",
       "      <th>355370</th>\n",
       "      <td>12</td>\n",
       "    </tr>\n",
       "    <tr>\n",
       "      <th>848942</th>\n",
       "      <td>12</td>\n",
       "    </tr>\n",
       "    <tr>\n",
       "      <th>...</th>\n",
       "      <td>...</td>\n",
       "    </tr>\n",
       "    <tr>\n",
       "      <th>766520</th>\n",
       "      <td>1</td>\n",
       "    </tr>\n",
       "    <tr>\n",
       "      <th>343320</th>\n",
       "      <td>1</td>\n",
       "    </tr>\n",
       "    <tr>\n",
       "      <th>766523</th>\n",
       "      <td>1</td>\n",
       "    </tr>\n",
       "    <tr>\n",
       "      <th>766524</th>\n",
       "      <td>1</td>\n",
       "    </tr>\n",
       "    <tr>\n",
       "      <th>297231</th>\n",
       "      <td>1</td>\n",
       "    </tr>\n",
       "  </tbody>\n",
       "</table>\n",
       "<p>911862 rows × 1 columns</p>\n",
       "</div>"
      ],
      "text/plain": [
       "           request_id\n",
       "applicant            \n",
       "903199             12\n",
       "570977             12\n",
       "251150             12\n",
       "355370             12\n",
       "848942             12\n",
       "...               ...\n",
       "766520              1\n",
       "343320              1\n",
       "766523              1\n",
       "766524              1\n",
       "297231              1\n",
       "\n",
       "[911862 rows x 1 columns]"
      ]
     },
     "execution_count": 421,
     "metadata": {},
     "output_type": "execute_result"
    }
   ],
   "source": [
    "# распределение количества результатов поиска на пользователя\n",
    "req_per_app = df_agg.groupby(by='applicant').agg({\n",
    "    'request_id': 'nunique'\n",
    "}).sort_values(by='request_id', ascending=False)\n",
    "\n",
    "req_per_app"
   ]
  },
  {
   "cell_type": "code",
   "execution_count": 422,
   "id": "b8d7a18e",
   "metadata": {
    "ExecuteTime": {
     "end_time": "2023-11-27T16:44:31.718187Z",
     "start_time": "2023-11-27T16:44:31.516666Z"
    }
   },
   "outputs": [
    {
     "data": {
      "text/plain": [
       "array([[<AxesSubplot:title={'center':'request_id'}>]], dtype=object)"
      ]
     },
     "execution_count": 422,
     "metadata": {},
     "output_type": "execute_result"
    },
    {
     "data": {
      "image/png": "[encoded data removed]",
      "text/plain": [
       "<Figure size 640x480 with 1 Axes>"
      ]
     },
     "metadata": {},
     "output_type": "display_data"
    }
   ],
   "source": [
    "req_per_app.hist()"
   ]
  },
  {
   "cell_type": "code",
   "execution_count": 423,
   "id": "ba539417",
   "metadata": {
    "ExecuteTime": {
     "end_time": "2023-11-27T16:44:31.733379Z",
     "start_time": "2023-11-27T16:44:31.721699Z"
    }
   },
   "outputs": [],
   "source": [
    "#df_agg[df_agg.applicant == 903199]"
   ]
  },
  {
   "cell_type": "code",
   "execution_count": 424,
   "id": "ae32bf55",
   "metadata": {
    "ExecuteTime": {
     "end_time": "2023-11-27T16:44:33.040837Z",
     "start_time": "2023-11-27T16:44:31.737157Z"
    }
   },
   "outputs": [
    {
     "data": {
      "text/html": [
       "<div>\n",
       "<style scoped>\n",
       "    .dataframe tbody tr th:only-of-type {\n",
       "        vertical-align: middle;\n",
       "    }\n",
       "\n",
       "    .dataframe tbody tr th {\n",
       "        vertical-align: top;\n",
       "    }\n",
       "\n",
       "    .dataframe thead th {\n",
       "        text-align: right;\n",
       "    }\n",
       "</style>\n",
       "<table border=\"1\" class=\"dataframe\">\n",
       "  <thead>\n",
       "    <tr style=\"text-align: right;\">\n",
       "      <th></th>\n",
       "      <th>city</th>\n",
       "    </tr>\n",
       "    <tr>\n",
       "      <th>vacancy_id_conv</th>\n",
       "      <th></th>\n",
       "    </tr>\n",
       "  </thead>\n",
       "  <tbody>\n",
       "    <tr>\n",
       "      <th>1</th>\n",
       "      <td>5</td>\n",
       "    </tr>\n",
       "    <tr>\n",
       "      <th>2</th>\n",
       "      <td>5</td>\n",
       "    </tr>\n",
       "    <tr>\n",
       "      <th>3</th>\n",
       "      <td>5</td>\n",
       "    </tr>\n",
       "    <tr>\n",
       "      <th>4</th>\n",
       "      <td>5</td>\n",
       "    </tr>\n",
       "    <tr>\n",
       "      <th>5</th>\n",
       "      <td>5</td>\n",
       "    </tr>\n",
       "  </tbody>\n",
       "</table>\n",
       "</div>"
      ],
      "text/plain": [
       "                 city\n",
       "vacancy_id_conv      \n",
       "1                   5\n",
       "2                   5\n",
       "3                   5\n",
       "4                   5\n",
       "5                   5"
      ]
     },
     "execution_count": 424,
     "metadata": {},
     "output_type": "execute_result"
    }
   ],
   "source": [
    "# Одна и та же вакансия может отражаться в разных городах\n",
    "df_agg.groupby(by='vacancy_id_conv').agg({'city':'nunique'}).head()"
   ]
  },
  {
   "cell_type": "code",
   "execution_count": 425,
   "id": "656d5afe",
   "metadata": {
    "ExecuteTime": {
     "end_time": "2023-11-27T16:44:34.734521Z",
     "start_time": "2023-11-27T16:44:33.043843Z"
    }
   },
   "outputs": [
    {
     "data": {
      "text/html": [
       "<div>\n",
       "<style scoped>\n",
       "    .dataframe tbody tr th:only-of-type {\n",
       "        vertical-align: middle;\n",
       "    }\n",
       "\n",
       "    .dataframe tbody tr th {\n",
       "        vertical-align: top;\n",
       "    }\n",
       "\n",
       "    .dataframe thead th {\n",
       "        text-align: right;\n",
       "    }\n",
       "</style>\n",
       "<table border=\"1\" class=\"dataframe\">\n",
       "  <thead>\n",
       "    <tr style=\"text-align: right;\">\n",
       "      <th></th>\n",
       "      <th>city</th>\n",
       "    </tr>\n",
       "    <tr>\n",
       "      <th>applicant</th>\n",
       "      <th></th>\n",
       "    </tr>\n",
       "  </thead>\n",
       "  <tbody>\n",
       "    <tr>\n",
       "      <th>0</th>\n",
       "      <td>2</td>\n",
       "    </tr>\n",
       "    <tr>\n",
       "      <th>1</th>\n",
       "      <td>1</td>\n",
       "    </tr>\n",
       "    <tr>\n",
       "      <th>2</th>\n",
       "      <td>2</td>\n",
       "    </tr>\n",
       "    <tr>\n",
       "      <th>3</th>\n",
       "      <td>1</td>\n",
       "    </tr>\n",
       "    <tr>\n",
       "      <th>4</th>\n",
       "      <td>3</td>\n",
       "    </tr>\n",
       "  </tbody>\n",
       "</table>\n",
       "</div>"
      ],
      "text/plain": [
       "           city\n",
       "applicant      \n",
       "0             2\n",
       "1             1\n",
       "2             2\n",
       "3             1\n",
       "4             3"
      ]
     },
     "execution_count": 425,
     "metadata": {},
     "output_type": "execute_result"
    }
   ],
   "source": [
    "# один и тот же пользователь может искать в разных городах\n",
    "df_agg.groupby(by='applicant').agg({'city':'nunique'}).head()"
   ]
  },
  {
   "cell_type": "code",
   "execution_count": 426,
   "id": "42e0a308",
   "metadata": {
    "ExecuteTime": {
     "end_time": "2023-11-27T16:44:36.635333Z",
     "start_time": "2023-11-27T16:44:34.738341Z"
    }
   },
   "outputs": [
    {
     "data": {
      "text/html": [
       "<div>\n",
       "<style scoped>\n",
       "    .dataframe tbody tr th:only-of-type {\n",
       "        vertical-align: middle;\n",
       "    }\n",
       "\n",
       "    .dataframe tbody tr th {\n",
       "        vertical-align: top;\n",
       "    }\n",
       "\n",
       "    .dataframe thead th {\n",
       "        text-align: right;\n",
       "    }\n",
       "</style>\n",
       "<table border=\"1\" class=\"dataframe\">\n",
       "  <thead>\n",
       "    <tr style=\"text-align: right;\">\n",
       "      <th></th>\n",
       "      <th>city</th>\n",
       "      <th>applicant_uniq</th>\n",
       "      <th>share_for_city</th>\n",
       "    </tr>\n",
       "  </thead>\n",
       "  <tbody>\n",
       "    <tr>\n",
       "      <th>0</th>\n",
       "      <td>Kazan</td>\n",
       "      <td>366458</td>\n",
       "      <td>0.401879</td>\n",
       "    </tr>\n",
       "    <tr>\n",
       "      <th>1</th>\n",
       "      <td>Moscow</td>\n",
       "      <td>544221</td>\n",
       "      <td>0.596824</td>\n",
       "    </tr>\n",
       "    <tr>\n",
       "      <th>2</th>\n",
       "      <td>Penza</td>\n",
       "      <td>293710</td>\n",
       "      <td>0.322099</td>\n",
       "    </tr>\n",
       "    <tr>\n",
       "      <th>3</th>\n",
       "      <td>SPb</td>\n",
       "      <td>446735</td>\n",
       "      <td>0.489915</td>\n",
       "    </tr>\n",
       "    <tr>\n",
       "      <th>4</th>\n",
       "      <td>Samara</td>\n",
       "      <td>220392</td>\n",
       "      <td>0.241694</td>\n",
       "    </tr>\n",
       "  </tbody>\n",
       "</table>\n",
       "</div>"
      ],
      "text/plain": [
       "     city  applicant_uniq  share_for_city\n",
       "0   Kazan          366458        0.401879\n",
       "1  Moscow          544221        0.596824\n",
       "2   Penza          293710        0.322099\n",
       "3     SPb          446735        0.489915\n",
       "4  Samara          220392        0.241694"
      ]
     },
     "execution_count": 426,
     "metadata": {},
     "output_type": "execute_result"
    }
   ],
   "source": [
    "# доля пользователей по городам\n",
    "appl_share = df_agg.groupby(by='city').agg({\n",
    "    'applicant': [\n",
    "        ('applicant_uniq', 'nunique')\n",
    "    ]\n",
    "    }).droplevel(0, axis=1).reset_index()\n",
    "\n",
    "appl_share['share_for_city'] = appl_share.applicant_uniq / df_agg.applicant.nunique()\n",
    "\n",
    "appl_share"
   ]
  },
  {
   "cell_type": "code",
   "execution_count": 427,
   "id": "af174ea8",
   "metadata": {
    "ExecuteTime": {
     "end_time": "2023-11-27T16:44:36.747553Z",
     "start_time": "2023-11-27T16:44:36.637041Z"
    }
   },
   "outputs": [
    {
     "data": {
      "text/plain": [
       "911862"
      ]
     },
     "execution_count": 427,
     "metadata": {},
     "output_type": "execute_result"
    }
   ],
   "source": [
    "df_agg.applicant.nunique()"
   ]
  },
  {
   "cell_type": "code",
   "execution_count": 428,
   "id": "9aadf571",
   "metadata": {
    "ExecuteTime": {
     "end_time": "2023-11-27T16:44:36.763131Z",
     "start_time": "2023-11-27T16:44:36.748989Z"
    }
   },
   "outputs": [
    {
     "data": {
      "text/plain": [
       "2.0524109999999998"
      ]
     },
     "execution_count": 428,
     "metadata": {},
     "output_type": "execute_result"
    }
   ],
   "source": [
    "0.401879 + 0.596824+0.322099+0.489915+0.241694"
   ]
  },
  {
   "cell_type": "markdown",
   "id": "3712a72f",
   "metadata": {
    "ExecuteTime": {
     "end_time": "2023-10-05T14:11:08.650964Z",
     "start_time": "2023-10-05T14:11:08.626181Z"
    }
   },
   "source": [
    "доля городов в показах вакансий"
   ]
  },
  {
   "cell_type": "code",
   "execution_count": 429,
   "id": "1f24a0d5",
   "metadata": {
    "ExecuteTime": {
     "end_time": "2023-11-27T16:44:36.898726Z",
     "start_time": "2023-11-27T16:44:36.765894Z"
    }
   },
   "outputs": [
    {
     "data": {
      "text/html": [
       "<div>\n",
       "<style scoped>\n",
       "    .dataframe tbody tr th:only-of-type {\n",
       "        vertical-align: middle;\n",
       "    }\n",
       "\n",
       "    .dataframe tbody tr th {\n",
       "        vertical-align: top;\n",
       "    }\n",
       "\n",
       "    .dataframe thead th {\n",
       "        text-align: right;\n",
       "    }\n",
       "</style>\n",
       "<table border=\"1\" class=\"dataframe\">\n",
       "  <thead>\n",
       "    <tr style=\"text-align: right;\">\n",
       "      <th></th>\n",
       "      <th>city</th>\n",
       "      <th>vac_view</th>\n",
       "      <th>city_share_in_views</th>\n",
       "    </tr>\n",
       "  </thead>\n",
       "  <tbody>\n",
       "    <tr>\n",
       "      <th>0</th>\n",
       "      <td>Kazan</td>\n",
       "      <td>456466</td>\n",
       "      <td>0.187723</td>\n",
       "    </tr>\n",
       "    <tr>\n",
       "      <th>1</th>\n",
       "      <td>Moscow</td>\n",
       "      <td>785767</td>\n",
       "      <td>0.323149</td>\n",
       "    </tr>\n",
       "    <tr>\n",
       "      <th>2</th>\n",
       "      <td>Penza</td>\n",
       "      <td>347974</td>\n",
       "      <td>0.143105</td>\n",
       "    </tr>\n",
       "    <tr>\n",
       "      <th>3</th>\n",
       "      <td>SPb</td>\n",
       "      <td>592298</td>\n",
       "      <td>0.243584</td>\n",
       "    </tr>\n",
       "    <tr>\n",
       "      <th>4</th>\n",
       "      <td>Samara</td>\n",
       "      <td>249091</td>\n",
       "      <td>0.102439</td>\n",
       "    </tr>\n",
       "  </tbody>\n",
       "</table>\n",
       "</div>"
      ],
      "text/plain": [
       "     city  vac_view  city_share_in_views\n",
       "0   Kazan    456466             0.187723\n",
       "1  Moscow    785767             0.323149\n",
       "2   Penza    347974             0.143105\n",
       "3     SPb    592298             0.243584\n",
       "4  Samara    249091             0.102439"
      ]
     },
     "execution_count": 429,
     "metadata": {},
     "output_type": "execute_result"
    }
   ],
   "source": [
    "vac_view = df_agg.groupby(by='city').agg({\n",
    "    'vacancy_id_conv': [\n",
    "        ('vac_view', 'count')\n",
    "    ]\n",
    "    }).droplevel(0, axis=1).reset_index()\n",
    "\n",
    "vac_view['city_share_in_views'] = vac_view.vac_view / df_agg.vacancy_id_conv.count()\n",
    "\n",
    "vac_view"
   ]
  },
  {
   "cell_type": "code",
   "execution_count": 430,
   "id": "77cf3dbe",
   "metadata": {
    "ExecuteTime": {
     "end_time": "2023-11-27T16:44:36.918440Z",
     "start_time": "2023-11-27T16:44:36.901703Z"
    }
   },
   "outputs": [
    {
     "data": {
      "text/plain": [
       "1.0"
      ]
     },
     "execution_count": 430,
     "metadata": {},
     "output_type": "execute_result"
    }
   ],
   "source": [
    "0.187723+0.323149+0.143105+0.243584+0.102439"
   ]
  },
  {
   "cell_type": "markdown",
   "id": "a17e4c35",
   "metadata": {},
   "source": [
    "распределения значений метрик по городам"
   ]
  },
  {
   "cell_type": "code",
   "execution_count": 431,
   "id": "18548fed",
   "metadata": {
    "ExecuteTime": {
     "end_time": "2023-11-27T16:44:43.983005Z",
     "start_time": "2023-11-27T16:44:36.918440Z"
    }
   },
   "outputs": [
    {
     "data": {
      "image/png": "[encoded data removed]",
      "text/plain": [
       "<Figure size 1000x1500 with 1 Axes>"
      ]
     },
     "metadata": {},
     "output_type": "display_data"
    }
   ],
   "source": [
    "fig = plt.figure(figsize=(10,15))\n",
    "\n",
    "\n",
    "metrics_destr = sns.histplot(data = df_agg,\n",
    "            x='metric_full',\n",
    "            hue='city',\n",
    "            alpha=0.2, palette = ['r', 'b', 'y', 'g', 'm'],\n",
    "            kde=False)"
   ]
  },
  {
   "cell_type": "code",
   "execution_count": 432,
   "id": "a3f16153",
   "metadata": {
    "ExecuteTime": {
     "end_time": "2023-11-27T16:44:48.811522Z",
     "start_time": "2023-11-27T16:44:43.983005Z"
    }
   },
   "outputs": [
    {
     "data": {
      "image/png": "[encoded data removed]",
      "text/plain": [
       "<Figure size 1000x1500 with 5 Axes>"
      ]
     },
     "metadata": {},
     "output_type": "display_data"
    }
   ],
   "source": [
    "fig = plt.figure(figsize=(10,15))\n",
    "\n",
    "total_axes = len(serps.city.unique()) # общее количество графиков (в данном случае\n",
    "                             # берем равным количеству городов\n",
    "subplt = 1 # номер начального axes\n",
    "\n",
    "for c in serps.city.unique():\n",
    "    ax = fig.add_subplot(total_axes, 1, subplt) # добавляем axes для каждого графика\n",
    "    sns.histplot(data=df_agg.loc[df_agg.city == c], x='metric_full') # отрисовываем график\n",
    "    plt.vlines(np.mean(df_agg.loc[df_agg.city == c]['metric_full']), ymin=0, ymax=4500, linestyle='-', colors='r')\n",
    "    subplt+=1\n",
    "    ax.set(xlabel=\"score вакансий\", ylabel='их частотность')\n",
    "    ax.set(title=c) # название города\n",
    "\n",
    "plt.tight_layout()\n",
    "\n",
    "plt.show()"
   ]
  },
  {
   "cell_type": "markdown",
   "id": "1eb996ad",
   "metadata": {},
   "source": [
    "дополним таблицу vac_city_grouped"
   ]
  },
  {
   "cell_type": "code",
   "execution_count": 433,
   "id": "e3916414",
   "metadata": {
    "ExecuteTime": {
     "end_time": "2023-11-27T16:44:51.524076Z",
     "start_time": "2023-11-27T16:44:48.811522Z"
    }
   },
   "outputs": [
    {
     "data": {
      "text/html": [
       "<div>\n",
       "<style scoped>\n",
       "    .dataframe tbody tr th:only-of-type {\n",
       "        vertical-align: middle;\n",
       "    }\n",
       "\n",
       "    .dataframe tbody tr th {\n",
       "        vertical-align: top;\n",
       "    }\n",
       "\n",
       "    .dataframe thead th {\n",
       "        text-align: right;\n",
       "    }\n",
       "</style>\n",
       "<table border=\"1\" class=\"dataframe\">\n",
       "  <thead>\n",
       "    <tr style=\"text-align: right;\">\n",
       "      <th></th>\n",
       "      <th>city</th>\n",
       "      <th>employer_uniq</th>\n",
       "      <th>vacancy_uniq</th>\n",
       "      <th>vacancy_view</th>\n",
       "      <th>serp_uniq</th>\n",
       "      <th>vacancy_id_conv_less_3</th>\n",
       "      <th>share_less_3</th>\n",
       "    </tr>\n",
       "  </thead>\n",
       "  <tbody>\n",
       "    <tr>\n",
       "      <th>0</th>\n",
       "      <td>Kazan</td>\n",
       "      <td>9899</td>\n",
       "      <td>45220</td>\n",
       "      <td>456466</td>\n",
       "      <td>200000</td>\n",
       "      <td>4117</td>\n",
       "      <td>0.091</td>\n",
       "    </tr>\n",
       "    <tr>\n",
       "      <th>1</th>\n",
       "      <td>Moscow</td>\n",
       "      <td>9931</td>\n",
       "      <td>50169</td>\n",
       "      <td>785767</td>\n",
       "      <td>200000</td>\n",
       "      <td>6936</td>\n",
       "      <td>0.138</td>\n",
       "    </tr>\n",
       "    <tr>\n",
       "      <th>2</th>\n",
       "      <td>Penza</td>\n",
       "      <td>9861</td>\n",
       "      <td>41881</td>\n",
       "      <td>347974</td>\n",
       "      <td>200000</td>\n",
       "      <td>2250</td>\n",
       "      <td>0.054</td>\n",
       "    </tr>\n",
       "    <tr>\n",
       "      <th>3</th>\n",
       "      <td>SPb</td>\n",
       "      <td>9915</td>\n",
       "      <td>47864</td>\n",
       "      <td>592298</td>\n",
       "      <td>200000</td>\n",
       "      <td>5715</td>\n",
       "      <td>0.119</td>\n",
       "    </tr>\n",
       "    <tr>\n",
       "      <th>4</th>\n",
       "      <td>Samara</td>\n",
       "      <td>9767</td>\n",
       "      <td>37049</td>\n",
       "      <td>249091</td>\n",
       "      <td>200000</td>\n",
       "      <td>811</td>\n",
       "      <td>0.022</td>\n",
       "    </tr>\n",
       "  </tbody>\n",
       "</table>\n",
       "</div>"
      ],
      "text/plain": [
       "     city  employer_uniq  vacancy_uniq  vacancy_view  serp_uniq  \\\n",
       "0   Kazan           9899         45220        456466     200000   \n",
       "1  Moscow           9931         50169        785767     200000   \n",
       "2   Penza           9861         41881        347974     200000   \n",
       "3     SPb           9915         47864        592298     200000   \n",
       "4  Samara           9767         37049        249091     200000   \n",
       "\n",
       "   vacancy_id_conv_less_3  share_less_3  \n",
       "0                    4117         0.091  \n",
       "1                    6936         0.138  \n",
       "2                    2250         0.054  \n",
       "3                    5715         0.119  \n",
       "4                     811         0.022  "
      ]
     },
     "execution_count": 433,
     "metadata": {},
     "output_type": "execute_result"
    }
   ],
   "source": [
    "vac_city_grouped = df_agg.groupby(by='city').agg({\n",
    "    'employer_id': [\n",
    "        ('employer_uniq', 'nunique')\n",
    "    ]\n",
    "    }).droplevel(0, axis=1).reset_index()\\\n",
    "    .merge(vac_city_grouped[['city', 'vacancy_uniq', 'vacancy_view', 'serp_uniq']], left_on='city', right_on='city')\\\n",
    "    .merge(metrics[['city', 'vacancy_id_conv_less_3', 'share_less_3']])\n",
    "\n",
    "vac_city_grouped"
   ]
  },
  {
   "cell_type": "markdown",
   "id": "ce1dd25c",
   "metadata": {
    "ExecuteTime": {
     "end_time": "2023-10-05T07:02:00.618104Z",
     "start_time": "2023-10-05T07:02:00.557195Z"
    }
   },
   "source": [
    "доля вакансий со скором меньше 3 по всем данным"
   ]
  },
  {
   "cell_type": "code",
   "execution_count": 434,
   "id": "9827d548",
   "metadata": {
    "ExecuteTime": {
     "end_time": "2023-11-27T16:44:51.592660Z",
     "start_time": "2023-11-27T16:44:51.524076Z"
    }
   },
   "outputs": [
    {
     "data": {
      "text/plain": [
       "0.036"
      ]
     },
     "execution_count": 434,
     "metadata": {},
     "output_type": "execute_result"
    }
   ],
   "source": [
    "round(df_agg.query('metric_full < 3').metric_full.count() / df_agg.metric_full.count(), 3) # по показанным"
   ]
  },
  {
   "cell_type": "code",
   "execution_count": 435,
   "id": "73b72736",
   "metadata": {
    "ExecuteTime": {
     "end_time": "2023-11-27T16:44:51.700822Z",
     "start_time": "2023-11-27T16:44:51.594668Z"
    }
   },
   "outputs": [
    {
     "data": {
      "text/plain": [
       "0.153"
      ]
     },
     "execution_count": 435,
     "metadata": {},
     "output_type": "execute_result"
    }
   ],
   "source": [
    "round(df_agg.query('metric_full < 3').metric_full.nunique() / df_agg.metric_full.nunique(), 3) # по уникальным существующим"
   ]
  },
  {
   "cell_type": "markdown",
   "id": "480cde1a",
   "metadata": {},
   "source": [
    "меняются ли значения метрики для вакансий в данных"
   ]
  },
  {
   "cell_type": "code",
   "execution_count": 436,
   "id": "3c0464b8",
   "metadata": {
    "ExecuteTime": {
     "end_time": "2023-11-27T16:44:54.607874Z",
     "start_time": "2023-11-27T16:44:51.701672Z"
    }
   },
   "outputs": [
    {
     "data": {
      "text/html": [
       "<div>\n",
       "<style scoped>\n",
       "    .dataframe tbody tr th:only-of-type {\n",
       "        vertical-align: middle;\n",
       "    }\n",
       "\n",
       "    .dataframe tbody tr th {\n",
       "        vertical-align: top;\n",
       "    }\n",
       "\n",
       "    .dataframe thead th {\n",
       "        text-align: right;\n",
       "    }\n",
       "</style>\n",
       "<table border=\"1\" class=\"dataframe\">\n",
       "  <thead>\n",
       "    <tr style=\"text-align: right;\">\n",
       "      <th></th>\n",
       "      <th>metric_full</th>\n",
       "    </tr>\n",
       "    <tr>\n",
       "      <th>vacancy_id_conv</th>\n",
       "      <th></th>\n",
       "    </tr>\n",
       "  </thead>\n",
       "  <tbody>\n",
       "  </tbody>\n",
       "</table>\n",
       "</div>"
      ],
      "text/plain": [
       "Empty DataFrame\n",
       "Columns: [metric_full]\n",
       "Index: []"
      ]
     },
     "execution_count": 436,
     "metadata": {},
     "output_type": "execute_result"
    }
   ],
   "source": [
    "df_agg.groupby('vacancy_id_conv').agg({'metric_full':'nunique'}).query('metric_full > 1')"
   ]
  },
  {
   "cell_type": "markdown",
   "id": "c59cefd2",
   "metadata": {},
   "source": [
    "кол-во вакансий на пользователя"
   ]
  },
  {
   "cell_type": "code",
   "execution_count": 437,
   "id": "6480d432",
   "metadata": {
    "ExecuteTime": {
     "end_time": "2023-11-27T16:44:57.935133Z",
     "start_time": "2023-11-27T16:44:54.607874Z"
    }
   },
   "outputs": [
    {
     "data": {
      "text/html": [
       "<div>\n",
       "<style scoped>\n",
       "    .dataframe tbody tr th:only-of-type {\n",
       "        vertical-align: middle;\n",
       "    }\n",
       "\n",
       "    .dataframe tbody tr th {\n",
       "        vertical-align: top;\n",
       "    }\n",
       "\n",
       "    .dataframe thead th {\n",
       "        text-align: right;\n",
       "    }\n",
       "</style>\n",
       "<table border=\"1\" class=\"dataframe\">\n",
       "  <thead>\n",
       "    <tr style=\"text-align: right;\">\n",
       "      <th></th>\n",
       "      <th>applicant</th>\n",
       "      <th>vacancy_uniq</th>\n",
       "      <th>vacancy_view</th>\n",
       "    </tr>\n",
       "  </thead>\n",
       "  <tbody>\n",
       "    <tr>\n",
       "      <th>0</th>\n",
       "      <td>0</td>\n",
       "      <td>3</td>\n",
       "      <td>3</td>\n",
       "    </tr>\n",
       "    <tr>\n",
       "      <th>1</th>\n",
       "      <td>1</td>\n",
       "      <td>2</td>\n",
       "      <td>2</td>\n",
       "    </tr>\n",
       "    <tr>\n",
       "      <th>2</th>\n",
       "      <td>2</td>\n",
       "      <td>3</td>\n",
       "      <td>3</td>\n",
       "    </tr>\n",
       "    <tr>\n",
       "      <th>3</th>\n",
       "      <td>3</td>\n",
       "      <td>1</td>\n",
       "      <td>1</td>\n",
       "    </tr>\n",
       "    <tr>\n",
       "      <th>4</th>\n",
       "      <td>4</td>\n",
       "      <td>4</td>\n",
       "      <td>4</td>\n",
       "    </tr>\n",
       "  </tbody>\n",
       "</table>\n",
       "</div>"
      ],
      "text/plain": [
       "   applicant  vacancy_uniq  vacancy_view\n",
       "0          0             3             3\n",
       "1          1             2             2\n",
       "2          2             3             3\n",
       "3          3             1             1\n",
       "4          4             4             4"
      ]
     },
     "execution_count": 437,
     "metadata": {},
     "output_type": "execute_result"
    }
   ],
   "source": [
    "v_a = df_agg.groupby('applicant').agg({\n",
    "    'vacancy_id_conv': [\n",
    "        ('vacancy_uniq', 'nunique'), \n",
    "        ('vacancy_view', 'count')                                               \n",
    "    ]\n",
    "}).droplevel(0, axis=1).reset_index()\n",
    "v_a.head()"
   ]
  },
  {
   "cell_type": "code",
   "execution_count": 438,
   "id": "893163cf",
   "metadata": {
    "ExecuteTime": {
     "end_time": "2023-11-27T16:44:57.986315Z",
     "start_time": "2023-11-27T16:44:57.937262Z"
    }
   },
   "outputs": [
    {
     "data": {
      "text/html": [
       "<div>\n",
       "<style scoped>\n",
       "    .dataframe tbody tr th:only-of-type {\n",
       "        vertical-align: middle;\n",
       "    }\n",
       "\n",
       "    .dataframe tbody tr th {\n",
       "        vertical-align: top;\n",
       "    }\n",
       "\n",
       "    .dataframe thead th {\n",
       "        text-align: right;\n",
       "    }\n",
       "</style>\n",
       "<table border=\"1\" class=\"dataframe\">\n",
       "  <thead>\n",
       "    <tr style=\"text-align: right;\">\n",
       "      <th></th>\n",
       "      <th>applicant</th>\n",
       "      <th>vacancy_uniq</th>\n",
       "      <th>vacancy_view</th>\n",
       "    </tr>\n",
       "  </thead>\n",
       "  <tbody>\n",
       "    <tr>\n",
       "      <th>1130</th>\n",
       "      <td>1244</td>\n",
       "      <td>4</td>\n",
       "      <td>5</td>\n",
       "    </tr>\n",
       "    <tr>\n",
       "      <th>1205</th>\n",
       "      <td>1324</td>\n",
       "      <td>2</td>\n",
       "      <td>3</td>\n",
       "    </tr>\n",
       "    <tr>\n",
       "      <th>1612</th>\n",
       "      <td>1780</td>\n",
       "      <td>3</td>\n",
       "      <td>4</td>\n",
       "    </tr>\n",
       "    <tr>\n",
       "      <th>2604</th>\n",
       "      <td>2856</td>\n",
       "      <td>1</td>\n",
       "      <td>2</td>\n",
       "    </tr>\n",
       "    <tr>\n",
       "      <th>2610</th>\n",
       "      <td>2862</td>\n",
       "      <td>3</td>\n",
       "      <td>4</td>\n",
       "    </tr>\n",
       "    <tr>\n",
       "      <th>...</th>\n",
       "      <td>...</td>\n",
       "      <td>...</td>\n",
       "      <td>...</td>\n",
       "    </tr>\n",
       "    <tr>\n",
       "      <th>904772</th>\n",
       "      <td>992174</td>\n",
       "      <td>1</td>\n",
       "      <td>2</td>\n",
       "    </tr>\n",
       "    <tr>\n",
       "      <th>906047</th>\n",
       "      <td>993586</td>\n",
       "      <td>3</td>\n",
       "      <td>4</td>\n",
       "    </tr>\n",
       "    <tr>\n",
       "      <th>908230</th>\n",
       "      <td>996002</td>\n",
       "      <td>2</td>\n",
       "      <td>3</td>\n",
       "    </tr>\n",
       "    <tr>\n",
       "      <th>909791</th>\n",
       "      <td>997714</td>\n",
       "      <td>1</td>\n",
       "      <td>2</td>\n",
       "    </tr>\n",
       "    <tr>\n",
       "      <th>909986</th>\n",
       "      <td>997928</td>\n",
       "      <td>2</td>\n",
       "      <td>3</td>\n",
       "    </tr>\n",
       "  </tbody>\n",
       "</table>\n",
       "<p>916 rows × 3 columns</p>\n",
       "</div>"
      ],
      "text/plain": [
       "        applicant  vacancy_uniq  vacancy_view\n",
       "1130         1244             4             5\n",
       "1205         1324             2             3\n",
       "1612         1780             3             4\n",
       "2604         2856             1             2\n",
       "2610         2862             3             4\n",
       "...           ...           ...           ...\n",
       "904772     992174             1             2\n",
       "906047     993586             3             4\n",
       "908230     996002             2             3\n",
       "909791     997714             1             2\n",
       "909986     997928             2             3\n",
       "\n",
       "[916 rows x 3 columns]"
      ]
     },
     "execution_count": 438,
     "metadata": {},
     "output_type": "execute_result"
    }
   ],
   "source": [
    "v_a.query('vacancy_uniq != vacancy_view') # смотрят ли повторно"
   ]
  },
  {
   "cell_type": "code",
   "execution_count": 439,
   "id": "e0670bcf",
   "metadata": {
    "ExecuteTime": {
     "end_time": "2023-11-27T16:44:58.005509Z",
     "start_time": "2023-11-27T16:44:57.989946Z"
    }
   },
   "outputs": [
    {
     "data": {
      "text/html": [
       "<div>\n",
       "<style scoped>\n",
       "    .dataframe tbody tr th:only-of-type {\n",
       "        vertical-align: middle;\n",
       "    }\n",
       "\n",
       "    .dataframe tbody tr th {\n",
       "        vertical-align: top;\n",
       "    }\n",
       "\n",
       "    .dataframe thead th {\n",
       "        text-align: right;\n",
       "    }\n",
       "</style>\n",
       "<table border=\"1\" class=\"dataframe\">\n",
       "  <thead>\n",
       "    <tr style=\"text-align: right;\">\n",
       "      <th></th>\n",
       "      <th>request_id</th>\n",
       "      <th>vacancy_id_conv</th>\n",
       "      <th>city</th>\n",
       "      <th>applicant</th>\n",
       "      <th>metric_full</th>\n",
       "      <th>employer_id</th>\n",
       "    </tr>\n",
       "  </thead>\n",
       "  <tbody>\n",
       "    <tr>\n",
       "      <th>183732</th>\n",
       "      <td>1687153690957bd0e7089b7dfdc7a98d</td>\n",
       "      <td>4430</td>\n",
       "      <td>Moscow</td>\n",
       "      <td>1244</td>\n",
       "      <td>5.332743</td>\n",
       "      <td>5617</td>\n",
       "    </tr>\n",
       "    <tr>\n",
       "      <th>633388</th>\n",
       "      <td>1687197904743addd42d8fd436460c2f</td>\n",
       "      <td>13960</td>\n",
       "      <td>Moscow</td>\n",
       "      <td>1244</td>\n",
       "      <td>4.503478</td>\n",
       "      <td>7711</td>\n",
       "    </tr>\n",
       "    <tr>\n",
       "      <th>1268619</th>\n",
       "      <td>1687179485131a53999c6641db514775</td>\n",
       "      <td>23930</td>\n",
       "      <td>SPb</td>\n",
       "      <td>1244</td>\n",
       "      <td>7.182649</td>\n",
       "      <td>3763</td>\n",
       "    </tr>\n",
       "    <tr>\n",
       "      <th>2031242</th>\n",
       "      <td>16871847251414f011b6a6c9a59fc1cb</td>\n",
       "      <td>13960</td>\n",
       "      <td>Penza</td>\n",
       "      <td>1244</td>\n",
       "      <td>4.503478</td>\n",
       "      <td>7711</td>\n",
       "    </tr>\n",
       "    <tr>\n",
       "      <th>2212412</th>\n",
       "      <td>16871538998541b321f497e355efc193</td>\n",
       "      <td>5186</td>\n",
       "      <td>Samara</td>\n",
       "      <td>1244</td>\n",
       "      <td>6.433145</td>\n",
       "      <td>3931</td>\n",
       "    </tr>\n",
       "  </tbody>\n",
       "</table>\n",
       "</div>"
      ],
      "text/plain": [
       "                               request_id  vacancy_id_conv    city  applicant  \\\n",
       "183732   1687153690957bd0e7089b7dfdc7a98d             4430  Moscow       1244   \n",
       "633388   1687197904743addd42d8fd436460c2f            13960  Moscow       1244   \n",
       "1268619  1687179485131a53999c6641db514775            23930     SPb       1244   \n",
       "2031242  16871847251414f011b6a6c9a59fc1cb            13960   Penza       1244   \n",
       "2212412  16871538998541b321f497e355efc193             5186  Samara       1244   \n",
       "\n",
       "         metric_full  employer_id  \n",
       "183732      5.332743         5617  \n",
       "633388      4.503478         7711  \n",
       "1268619     7.182649         3763  \n",
       "2031242     4.503478         7711  \n",
       "2212412     6.433145         3931  "
      ]
     },
     "execution_count": 439,
     "metadata": {},
     "output_type": "execute_result"
    }
   ],
   "source": [
    "df_agg.loc[df_agg.applicant == 1244]"
   ]
  },
  {
   "cell_type": "markdown",
   "id": "7ecc07ad",
   "metadata": {},
   "source": [
    "одни и те же вакансии могут попадаться пользователю несколько раз на разных serp'ах"
   ]
  },
  {
   "cell_type": "markdown",
   "id": "a3719020",
   "metadata": {},
   "source": [
    "Мы знаем, что:\\\n",
    "1) Вакансия отражается на уникальном serp'е для каждого города. На каждую вакансию уникальный serp, те vacancy_unique = request_id_count (внутри города). Каждая вакансия внутри каждого города: сколько человек увидели, столько serp'ов было на вакансию\n",
    "\n",
    "2) 68 % пользователей ищут вакансии не только в одном городе, а сразу в нескольких.\n",
    "\n",
    "3) количество вакансий на серпе отличается для разных городов\n",
    "\n",
    "4) количество серпов 1000000, а пользователей - 911862, значит один и тот результат serp может быть показан нескольким пользователем\n",
    "\n",
    "5) На пользователя может быть несколько serp'ов (это логично с изменением фильтров при поиске)"
   ]
  },
  {
   "cell_type": "markdown",
   "id": "c4265826",
   "metadata": {},
   "source": [
    "## A/B test"
   ]
  },
  {
   "cell_type": "markdown",
   "id": "eaddd889",
   "metadata": {},
   "source": [
    "### Дизайн"
   ]
  },
  {
   "cell_type": "markdown",
   "id": "8ac02ebb",
   "metadata": {},
   "source": [
    "Объект рандомизации - пользователи, объект анализа – вакансии, тогда целевая метрика с долей непопулярных вакансий - ratio-метрика, т.к. единица рандомизации и единица анализа различны.\n",
    "#### прокси-метрики\n",
    "Дополнительно в тесте можно следить за такими метриками как количество просмотров вакансий в разных группах (я так и не поняла просмотры и клики по ИД это одно и то же или нет, если просмотры это только частота появления на серпе, инфо по кликам в ИД нет, но за ними тоже можно следить). Это связано с тем, что данная метрика поможет интерпретировать результаты теста. Если в контроле упадет количество просмотров/кликов, что возможно алгоритм генерации и замены лого+описания «слетел» вакансии на этом алгоритме теряют привлекательность.\n",
    "#### Длительность\n",
    "В тесте необходимо будет учитывать кратность (по времени) изменения скора, указанного в столбце metric_full. В исходных данных метрика для каждой вакансии одинаковая и не меняется, данных по датам в csv так же нет. Соответственно, нужно понимать, за какой период на практике происходит сбор количества просмотров вакансии, применяемого при расчете данной метрики вакансии, прежде чем значения метрики обновится. В ИД дано: «В алгоритме ранжирования в онлайне учитываются просмотры и отклики на каждую вакансию, сделанные за последние несколько дней/часов». В случае нескольких дней необходимо в тесте закладывать целое количество таких периодов пересчета метрики и переранжирования на serp’е, чтобы анализировать результат теста на сформировавшихся score’ах. В противном случае, если длительность теста не будет заканчиваться днем сменой метрики, то это приведет к тому, что в интервале между последним изменением скора и окончанием теста окажутся новые вакансии, которые только были выложены и не успели получить корректный скор, что исказит результаты.\n",
    "Также необходимо понимать, есть ли недельная «сезонность» по причине того, что, например, для работающих людей, возможно пик поиска новой работы может приходиться на выходные, в таком случае необходимо будет ориентироваться на целое количество недель.\n",
    "#### Сегментаниция\n",
    "Так как количество пользователей и их активность по городам разные, можно было бы предположить способ рандомизации с делением всех данных на группы с сохранением пропорции по пользователям для каждого города как в данных. Но так мы сделать не можем, во-первых, из-за пользователей, ищущих одновременно в нескольких городах (доли пользователей по городам неизвестны), во-вторых, мы понимаем, что на сервисе регионов более, чем 5, нежели в исходной csv.\n",
    "В случае деления по географии можно отсечь часть действий на пользователя в других городах (кроме того, некоторые пользователи видят вакансии повторно и повторные просмотры также могут приходиться на разные города).\n",
    "Предлагаем поделить так, чтобы обеспечивалось следующее «если пользователь оказался в определённой группе, то и все его действия будут в этой группе»."
   ]
  },
  {
   "cell_type": "markdown",
   "id": "9ef7f22b",
   "metadata": {},
   "source": [
    "#### Метрики и гипотезы"
   ]
  },
  {
   "cell_type": "markdown",
   "id": "94cd9222",
   "metadata": {},
   "source": [
    "Цель А/Б тестирования заключается в том, чтобы проверить следующее: «автоматическое генерирование описания и логотипа приведет к повышению привлекательности вакансий, т.е. снижению доли вакансий с низким скором (меньше 3) относительно контроля».\n",
    "\n",
    "Сформулируем гипотезы:\n",
    "1. Нулевая гипотеза: нет различий в доле вакансий со скором меньше 3 между группами:\\\n",
    "H0: $p_{control}$ - $p_{test}$ = 0\n",
    "\n",
    "2. Альтернативная гипотеза: доля вакансий со скором меньше 3 ниже в тестовой группе, чем в контрольной (разница контроля и теста положительна):\\\n",
    "H1: $p_{control}$ - $p_{test}$ < 0"
   ]
  },
  {
   "cell_type": "markdown",
   "id": "94ae3a33",
   "metadata": {},
   "source": [
    "Для теста примем мощность 80 %, уровень значимости 0.05"
   ]
  },
  {
   "cell_type": "markdown",
   "id": "26afcdc9",
   "metadata": {},
   "source": [
    "#### Bootstrap для получения распределения долей по существующим данным вместо \"исторических\""
   ]
  },
  {
   "cell_type": "markdown",
   "id": "c15fe51c",
   "metadata": {},
   "source": [
    "Для определения размера выборки для теста в идеальном варианте необходимо иметь исторические данные, по которым можно оценить дисперсию. Таких данных нет, поэтому было принято решение оценить распределение целевой метрики по имеющимся с помощью Bootstrap. Функция выглядит следующим образом"
   ]
  },
  {
   "cell_type": "code",
   "execution_count": 440,
   "id": "d676286a",
   "metadata": {
    "ExecuteTime": {
     "end_time": "2023-11-27T16:44:58.018283Z",
     "start_time": "2023-11-27T16:44:58.005509Z"
    }
   },
   "outputs": [],
   "source": [
    "# бутстрап распределение долей по исходной csv\n",
    "def bootstrap_ratio(df, n_trails=2000):\n",
    "    '''\n",
    "    Из исходной таблицы берем случайные подвыборки такого же размера \n",
    "    в количестве n_trails раз\n",
    "    для каждой подвыборки считаем все вакансии в подвыборке\n",
    "    и все вакансии со скором меньше 3\n",
    "    находим долю в каждой подвыборке n_trails раз\n",
    "    Возвращает распределение метрики (доля) - stat_distrib\n",
    "    '''\n",
    "\n",
    "    stat_distrib = []\n",
    "\n",
    "    for _ in range(n_trails):\n",
    "        sample1 = df['metric_full'].sample(len(df['metric_full']),\\\n",
    "                        replace = True) \n",
    "                        # replace = True параметр возвращения\n",
    "        denom = sample1.nunique()\n",
    "        sample2 = pd.DataFrame(sample1)\n",
    "        num = sample2[sample2.metric_full < 3].metric_full.nunique()\n",
    "                \n",
    "        ratio = num / denom\n",
    "\n",
    "        stat_distrib.append(ratio)\n",
    "    \n",
    "    return stat_distrib"
   ]
  },
  {
   "cell_type": "code",
   "execution_count": 441,
   "id": "60ebe6e4",
   "metadata": {
    "ExecuteTime": {
     "end_time": "2023-11-27T16:51:25.224099Z",
     "start_time": "2023-11-27T16:44:58.019596Z"
    }
   },
   "outputs": [],
   "source": [
    "distr = bootstrap_ratio(df_agg)"
   ]
  },
  {
   "cell_type": "code",
   "execution_count": 442,
   "id": "1cc48463",
   "metadata": {
    "ExecuteTime": {
     "end_time": "2023-11-27T16:51:25.239322Z",
     "start_time": "2023-11-27T16:51:25.226395Z"
    }
   },
   "outputs": [
    {
     "data": {
      "text/plain": [
       "2000"
      ]
     },
     "execution_count": 442,
     "metadata": {},
     "output_type": "execute_result"
    }
   ],
   "source": [
    "len(distr)"
   ]
  },
  {
   "cell_type": "code",
   "execution_count": 443,
   "id": "bd83f556",
   "metadata": {
    "ExecuteTime": {
     "end_time": "2023-11-27T16:51:25.255072Z",
     "start_time": "2023-11-27T16:51:25.241747Z"
    }
   },
   "outputs": [],
   "source": [
    "#distr"
   ]
  },
  {
   "cell_type": "code",
   "execution_count": 444,
   "id": "ec11d890",
   "metadata": {
    "ExecuteTime": {
     "end_time": "2023-11-27T16:51:25.286986Z",
     "start_time": "2023-11-27T16:51:25.260148Z"
    }
   },
   "outputs": [],
   "source": [
    "# Найдем доверительный интервал\n",
    "boot_conf_level = 0.95\n",
    "left_ci025 = (1 - boot_conf_level) / 2\n",
    "right_ci = 1 - (1 - boot_conf_level) / 2\n",
    "left_ci05 = 1 - boot_conf_level\n",
    "\n",
    "ci = np.quantile(distr, [left_ci025, left_ci05, right_ci])"
   ]
  },
  {
   "cell_type": "code",
   "execution_count": 445,
   "id": "c6cbfe05",
   "metadata": {
    "ExecuteTime": {
     "end_time": "2023-11-27T16:51:25.318511Z",
     "start_time": "2023-11-27T16:51:25.288136Z"
    }
   },
   "outputs": [
    {
     "name": "stdout",
     "output_type": "stream",
     "text": [
      "0.025    0.139125\n",
      "0.050    0.139244\n",
      "0.975    0.140742\n",
      "dtype: float64\n"
     ]
    }
   ],
   "source": [
    "print(pd.Series(distr).quantile([left_ci025, left_ci05, right_ci]))"
   ]
  },
  {
   "cell_type": "code",
   "execution_count": 446,
   "id": "1adfb4ae",
   "metadata": {
    "ExecuteTime": {
     "end_time": "2023-11-27T16:51:25.397703Z",
     "start_time": "2023-11-27T16:51:25.319973Z"
    }
   },
   "outputs": [
    {
     "data": {
      "text/plain": [
       "0.15313513513513513"
      ]
     },
     "execution_count": 446,
     "metadata": {},
     "output_type": "execute_result"
    }
   ],
   "source": [
    "# доля непопулярных вакансий в исходном df\n",
    "df_agg.query('metric_full < 3').vacancy_id_conv.nunique() / df_agg.vacancy_id_conv.nunique()"
   ]
  },
  {
   "cell_type": "code",
   "execution_count": 447,
   "id": "439e4884",
   "metadata": {
    "ExecuteTime": {
     "end_time": "2023-11-27T16:51:25.429102Z",
     "start_time": "2023-11-27T16:51:25.397703Z"
    }
   },
   "outputs": [
    {
     "name": "stdout",
     "output_type": "stream",
     "text": [
      "по результатам бутстрапа на 2000 подвыборок из ИД получили:\n",
      "среднее равное 0.1399488747155819,\n",
      "стандартное отклонение равное 0.000419661949508497,\n",
      "дисперсию равную 1.761161518652723e-07\n"
     ]
    }
   ],
   "source": [
    "print(f'по результатам бутстрапа на 2000 подвыборок из ИД получили:\\n\\\n",
    "среднее равное {np.mean(distr)},\\n\\\n",
    "стандартное отклонение равное {np.std(distr)},\\n\\\n",
    "дисперсию равную {np.var(distr)}')"
   ]
  },
  {
   "cell_type": "code",
   "execution_count": 448,
   "id": "55c31e05",
   "metadata": {
    "ExecuteTime": {
     "end_time": "2023-11-27T16:51:25.855394Z",
     "start_time": "2023-11-27T16:51:25.429102Z"
    }
   },
   "outputs": [
    {
     "data": {
      "image/png": "[encoded data removed]",
      "text/plain": [
       "<Figure size 640x480 with 1 Axes>"
      ]
     },
     "metadata": {},
     "output_type": "display_data"
    }
   ],
   "source": [
    "# Полученное распределение\n",
    "plt.hist(pd.Series(distr), bins = 50)\n",
    "plt.style.use('ggplot')\n",
    "\n",
    "plt.vlines(np.mean(distr), ymin=0, ymax=150, linestyle='-', colors='b') #среднее\n",
    "plt.vlines(ci[[0,2]], ymin=0, ymax=50, linestyle='--', colors='b') #0.025 и 0.975 квантиль\n",
    "plt.vlines(ci[1], ymin=0, ymax=50, linestyle='--', colors='g') #0.05квантиль\n",
    "\n",
    "plt.xlabel('boot_ratio_our_df')\n",
    "plt.ylabel('frequency')\n",
    "plt.title('Histogram of share vacancies with score less then 3')\n",
    "plt.show()"
   ]
  },
  {
   "cell_type": "markdown",
   "id": "09d6accc",
   "metadata": {},
   "source": [
    "**полученное распределение имеет вид: ~ normal(mu_=0.14, std=0.00041, n=2000)**"
   ]
  },
  {
   "cell_type": "markdown",
   "id": "4ba3291f",
   "metadata": {},
   "source": [
    "#### Считаем Sample size"
   ]
  },
  {
   "cell_type": "markdown",
   "id": "802ebfcd",
   "metadata": {},
   "source": [
    "Полученные данные по Bootstrap предлагаем принять как будто это усредненные исторические значения для расчёта mde и sample size. \n",
    "\n",
    "На этапе планирования эксперимента обычно предполагают, что дисперсии в тестовой и контрольной группе будут одинаковыми и равными той дисперсии, которую мы оценили на исторических данных."
   ]
  },
  {
   "cell_type": "markdown",
   "id": "ed00f35c",
   "metadata": {},
   "source": [
    "Примем за желаемый эффект снижение доли на 0.01"
   ]
  },
  {
   "cell_type": "code",
   "execution_count": 449,
   "id": "eacb7426",
   "metadata": {
    "ExecuteTime": {
     "end_time": "2023-11-27T16:51:25.887495Z",
     "start_time": "2023-11-27T16:51:25.855910Z"
    }
   },
   "outputs": [],
   "source": [
    "# все ИД для расчето\n",
    "alpha = 0.05 # допустимая вероятность ошибки I рода\n",
    "beta = 0.2 # допустимая вероятность ошибки II рода\n",
    "power = 1 - beta # мощность\n",
    "estimated_std = np.std(distr) # стандартное отклонение оцененное по Bootstrap\n",
    "lvl_alpha = stats.norm.ppf(1 - alpha, loc=0, scale=1) \n",
    "lvl_beta = stats.norm.ppf(1 - beta, loc=0, scale=1) "
   ]
  },
  {
   "cell_type": "code",
   "execution_count": 450,
   "id": "e602cb67",
   "metadata": {
    "ExecuteTime": {
     "end_time": "2023-11-27T16:51:25.903492Z",
     "start_time": "2023-11-27T16:51:25.887495Z"
    }
   },
   "outputs": [
    {
     "name": "stdout",
     "output_type": "stream",
     "text": [
      "относительный MDE равен 7 %\n"
     ]
    }
   ],
   "source": [
    "effect = 0.01 #принятый желаемый / необходимый Effect Size\n",
    "\n",
    "# получается до теста доля ~0.14, хотим снизить на 0.01 (до 0.13), \n",
    "# тогда Effect relative равен 0.01/0.14*100 \n",
    "relative_mde = int(effect * 100 / np.mean(distr))\n",
    "print(f'относительный MDE равен {relative_mde} %')"
   ]
  },
  {
   "cell_type": "code",
   "execution_count": 451,
   "id": "419fbd64",
   "metadata": {
    "ExecuteTime": {
     "end_time": "2023-11-27T16:51:25.919256Z",
     "start_time": "2023-11-27T16:51:25.904794Z"
    }
   },
   "outputs": [
    {
     "data": {
      "text/plain": [
       "0.12036318718142426"
      ]
     },
     "execution_count": 451,
     "metadata": {},
     "output_type": "execute_result"
    }
   ],
   "source": [
    "#var = p(1-p) как для конверсионных метрик\n",
    "var = np.mean(distr) * (1 - np.mean(distr))\n",
    "var"
   ]
  },
  {
   "cell_type": "code",
   "execution_count": 452,
   "id": "3d039ded",
   "metadata": {
    "ExecuteTime": {
     "end_time": "2023-11-27T16:51:25.934912Z",
     "start_time": "2023-11-27T16:51:25.919256Z"
    }
   },
   "outputs": [
    {
     "data": {
      "text/plain": [
       "14883"
      ]
     },
     "execution_count": 452,
     "metadata": {},
     "output_type": "execute_result"
    }
   ],
   "source": [
    "# 2var принято как равные дисперсии тест/контроль на исторических данных\n",
    "sample_size = int((lvl_alpha + lvl_beta)**2 * 2 * var / (effect**2)) \n",
    "sample_size"
   ]
  },
  {
   "cell_type": "markdown",
   "id": "ad51c2d3",
   "metadata": {},
   "source": [
    "#### Сегментация с солью на n групп"
   ]
  },
  {
   "cell_type": "code",
   "execution_count": 453,
   "id": "1f27bceb",
   "metadata": {
    "ExecuteTime": {
     "end_time": "2023-11-27T16:51:26.076562Z",
     "start_time": "2023-11-27T16:51:25.937512Z"
    }
   },
   "outputs": [
    {
     "data": {
      "text/plain": [
       "61.268695827454145"
      ]
     },
     "execution_count": 453,
     "metadata": {},
     "output_type": "execute_result"
    }
   ],
   "source": [
    "# считаем на сколько групп необходимо поделить имеющиеся данные чтобы получить необходимый размер групп\n",
    "n_groups = df_agg.applicant.nunique() / sample_size\n",
    "n_groups"
   ]
  },
  {
   "cell_type": "markdown",
   "id": "95e52f37",
   "metadata": {},
   "source": [
    "поделим на 60 групп, чтобы быть уверенными, что в группах не будет пользователей меньше, чем требуемый sample size\n",
    "\n",
    "при делении на 61 группу размер некоторых выборок ниже рассчитанного ранее sample size, что снизит мощность"
   ]
  },
  {
   "cell_type": "code",
   "execution_count": 454,
   "id": "2db6d186",
   "metadata": {
    "ExecuteTime": {
     "end_time": "2023-11-27T16:51:26.092600Z",
     "start_time": "2023-11-27T16:51:26.076562Z"
    }
   },
   "outputs": [],
   "source": [
    "# разбиение с солью на n групп\n",
    "def ab_split(id, salt='group_salt', n_groups=60):\n",
    "    '''\n",
    "    разбиение с солью на n групп\n",
    "    '''\n",
    "    test_id = str(id) + '-' + str(salt)\n",
    "    test_id_digest = hashlib.md5(test_id.encode('ascii')).hexdigest()\n",
    "    test_id_final_int = int(test_id_digest, 16)\n",
    "    \n",
    "    return test_id_final_int % n_groups"
   ]
  },
  {
   "cell_type": "code",
   "execution_count": 455,
   "id": "cd2737ce",
   "metadata": {
    "ExecuteTime": {
     "end_time": "2023-11-27T16:51:26.376004Z",
     "start_time": "2023-11-27T16:51:26.092600Z"
    }
   },
   "outputs": [
    {
     "data": {
      "text/html": [
       "<div>\n",
       "<style scoped>\n",
       "    .dataframe tbody tr th:only-of-type {\n",
       "        vertical-align: middle;\n",
       "    }\n",
       "\n",
       "    .dataframe tbody tr th {\n",
       "        vertical-align: top;\n",
       "    }\n",
       "\n",
       "    .dataframe thead th {\n",
       "        text-align: right;\n",
       "    }\n",
       "</style>\n",
       "<table border=\"1\" class=\"dataframe\">\n",
       "  <thead>\n",
       "    <tr style=\"text-align: right;\">\n",
       "      <th></th>\n",
       "      <th>applicant</th>\n",
       "    </tr>\n",
       "  </thead>\n",
       "  <tbody>\n",
       "    <tr>\n",
       "      <th>0</th>\n",
       "      <td>0</td>\n",
       "    </tr>\n",
       "    <tr>\n",
       "      <th>1</th>\n",
       "      <td>1</td>\n",
       "    </tr>\n",
       "    <tr>\n",
       "      <th>2</th>\n",
       "      <td>2</td>\n",
       "    </tr>\n",
       "    <tr>\n",
       "      <th>3</th>\n",
       "      <td>3</td>\n",
       "    </tr>\n",
       "    <tr>\n",
       "      <th>4</th>\n",
       "      <td>4</td>\n",
       "    </tr>\n",
       "    <tr>\n",
       "      <th>...</th>\n",
       "      <td>...</td>\n",
       "    </tr>\n",
       "    <tr>\n",
       "      <th>911857</th>\n",
       "      <td>999995</td>\n",
       "    </tr>\n",
       "    <tr>\n",
       "      <th>911858</th>\n",
       "      <td>999996</td>\n",
       "    </tr>\n",
       "    <tr>\n",
       "      <th>911859</th>\n",
       "      <td>999997</td>\n",
       "    </tr>\n",
       "    <tr>\n",
       "      <th>911860</th>\n",
       "      <td>999998</td>\n",
       "    </tr>\n",
       "    <tr>\n",
       "      <th>911861</th>\n",
       "      <td>999999</td>\n",
       "    </tr>\n",
       "  </tbody>\n",
       "</table>\n",
       "<p>911862 rows × 1 columns</p>\n",
       "</div>"
      ],
      "text/plain": [
       "        applicant\n",
       "0               0\n",
       "1               1\n",
       "2               2\n",
       "3               3\n",
       "4               4\n",
       "...           ...\n",
       "911857     999995\n",
       "911858     999996\n",
       "911859     999997\n",
       "911860     999998\n",
       "911861     999999\n",
       "\n",
       "[911862 rows x 1 columns]"
      ]
     },
     "execution_count": 455,
     "metadata": {},
     "output_type": "execute_result"
    }
   ],
   "source": [
    "# все пользователи\n",
    "applicants = pd.DataFrame(df_agg.applicant.unique(), columns=['applicant'])\n",
    "applicants = applicants.sort_values(by='applicant').reset_index().drop(columns='index')\n",
    "\n",
    "applicants"
   ]
  },
  {
   "cell_type": "code",
   "execution_count": 456,
   "id": "429630e4",
   "metadata": {
    "ExecuteTime": {
     "end_time": "2023-11-27T16:51:33.291860Z",
     "start_time": "2023-11-27T16:51:26.376004Z"
    }
   },
   "outputs": [
    {
     "data": {
      "application/vnd.jupyter.widget-view+json": {
       "model_id": "5ded8a38a37a480c9cb47028fe185690",
       "version_major": 2,
       "version_minor": 0
      },
      "text/plain": [
       "Dask Apply:   0%|          | 0/24 [00:00<?, ?it/s]"
      ]
     },
     "metadata": {},
     "output_type": "display_data"
    },
    {
     "data": {
      "text/html": [
       "<div>\n",
       "<style scoped>\n",
       "    .dataframe tbody tr th:only-of-type {\n",
       "        vertical-align: middle;\n",
       "    }\n",
       "\n",
       "    .dataframe tbody tr th {\n",
       "        vertical-align: top;\n",
       "    }\n",
       "\n",
       "    .dataframe thead th {\n",
       "        text-align: right;\n",
       "    }\n",
       "</style>\n",
       "<table border=\"1\" class=\"dataframe\">\n",
       "  <thead>\n",
       "    <tr style=\"text-align: right;\">\n",
       "      <th></th>\n",
       "      <th>applicant</th>\n",
       "      <th>hash_group</th>\n",
       "    </tr>\n",
       "  </thead>\n",
       "  <tbody>\n",
       "    <tr>\n",
       "      <th>0</th>\n",
       "      <td>0</td>\n",
       "      <td>57</td>\n",
       "    </tr>\n",
       "    <tr>\n",
       "      <th>1</th>\n",
       "      <td>1</td>\n",
       "      <td>44</td>\n",
       "    </tr>\n",
       "    <tr>\n",
       "      <th>2</th>\n",
       "      <td>2</td>\n",
       "      <td>6</td>\n",
       "    </tr>\n",
       "    <tr>\n",
       "      <th>3</th>\n",
       "      <td>3</td>\n",
       "      <td>10</td>\n",
       "    </tr>\n",
       "    <tr>\n",
       "      <th>4</th>\n",
       "      <td>4</td>\n",
       "      <td>54</td>\n",
       "    </tr>\n",
       "  </tbody>\n",
       "</table>\n",
       "</div>"
      ],
      "text/plain": [
       "   applicant  hash_group\n",
       "0          0          57\n",
       "1          1          44\n",
       "2          2           6\n",
       "3          3          10\n",
       "4          4          54"
      ]
     },
     "execution_count": 456,
     "metadata": {},
     "output_type": "execute_result"
    }
   ],
   "source": [
    "# Сделали группы\n",
    "applicants['hash_group'] = applicants.applicant.swifter.apply(ab_split)\n",
    "\n",
    "applicants.head()"
   ]
  },
  {
   "cell_type": "code",
   "execution_count": 457,
   "id": "35fbc5aa",
   "metadata": {
    "ExecuteTime": {
     "end_time": "2023-11-27T16:51:33.528102Z",
     "start_time": "2023-11-27T16:51:33.291860Z"
    }
   },
   "outputs": [
    {
     "data": {
      "text/html": [
       "<div>\n",
       "<style scoped>\n",
       "    .dataframe tbody tr th:only-of-type {\n",
       "        vertical-align: middle;\n",
       "    }\n",
       "\n",
       "    .dataframe tbody tr th {\n",
       "        vertical-align: top;\n",
       "    }\n",
       "\n",
       "    .dataframe thead th {\n",
       "        text-align: right;\n",
       "    }\n",
       "</style>\n",
       "<table border=\"1\" class=\"dataframe\">\n",
       "  <thead>\n",
       "    <tr style=\"text-align: right;\">\n",
       "      <th></th>\n",
       "      <th>hash_group</th>\n",
       "      <th>applicant</th>\n",
       "    </tr>\n",
       "  </thead>\n",
       "  <tbody>\n",
       "    <tr>\n",
       "      <th>0</th>\n",
       "      <td>0</td>\n",
       "      <td>15195</td>\n",
       "    </tr>\n",
       "    <tr>\n",
       "      <th>1</th>\n",
       "      <td>1</td>\n",
       "      <td>15294</td>\n",
       "    </tr>\n",
       "    <tr>\n",
       "      <th>2</th>\n",
       "      <td>2</td>\n",
       "      <td>15296</td>\n",
       "    </tr>\n",
       "    <tr>\n",
       "      <th>3</th>\n",
       "      <td>3</td>\n",
       "      <td>15251</td>\n",
       "    </tr>\n",
       "    <tr>\n",
       "      <th>4</th>\n",
       "      <td>4</td>\n",
       "      <td>15159</td>\n",
       "    </tr>\n",
       "    <tr>\n",
       "      <th>5</th>\n",
       "      <td>5</td>\n",
       "      <td>15126</td>\n",
       "    </tr>\n",
       "    <tr>\n",
       "      <th>6</th>\n",
       "      <td>6</td>\n",
       "      <td>15512</td>\n",
       "    </tr>\n",
       "    <tr>\n",
       "      <th>7</th>\n",
       "      <td>7</td>\n",
       "      <td>15130</td>\n",
       "    </tr>\n",
       "    <tr>\n",
       "      <th>8</th>\n",
       "      <td>8</td>\n",
       "      <td>15027</td>\n",
       "    </tr>\n",
       "    <tr>\n",
       "      <th>9</th>\n",
       "      <td>9</td>\n",
       "      <td>15220</td>\n",
       "    </tr>\n",
       "    <tr>\n",
       "      <th>10</th>\n",
       "      <td>10</td>\n",
       "      <td>15301</td>\n",
       "    </tr>\n",
       "    <tr>\n",
       "      <th>11</th>\n",
       "      <td>11</td>\n",
       "      <td>15175</td>\n",
       "    </tr>\n",
       "    <tr>\n",
       "      <th>12</th>\n",
       "      <td>12</td>\n",
       "      <td>15219</td>\n",
       "    </tr>\n",
       "    <tr>\n",
       "      <th>13</th>\n",
       "      <td>13</td>\n",
       "      <td>15377</td>\n",
       "    </tr>\n",
       "    <tr>\n",
       "      <th>14</th>\n",
       "      <td>14</td>\n",
       "      <td>15379</td>\n",
       "    </tr>\n",
       "    <tr>\n",
       "      <th>15</th>\n",
       "      <td>15</td>\n",
       "      <td>15328</td>\n",
       "    </tr>\n",
       "    <tr>\n",
       "      <th>16</th>\n",
       "      <td>16</td>\n",
       "      <td>15224</td>\n",
       "    </tr>\n",
       "    <tr>\n",
       "      <th>17</th>\n",
       "      <td>17</td>\n",
       "      <td>15095</td>\n",
       "    </tr>\n",
       "    <tr>\n",
       "      <th>18</th>\n",
       "      <td>18</td>\n",
       "      <td>15227</td>\n",
       "    </tr>\n",
       "    <tr>\n",
       "      <th>19</th>\n",
       "      <td>19</td>\n",
       "      <td>15177</td>\n",
       "    </tr>\n",
       "    <tr>\n",
       "      <th>20</th>\n",
       "      <td>20</td>\n",
       "      <td>15151</td>\n",
       "    </tr>\n",
       "    <tr>\n",
       "      <th>21</th>\n",
       "      <td>21</td>\n",
       "      <td>15020</td>\n",
       "    </tr>\n",
       "    <tr>\n",
       "      <th>22</th>\n",
       "      <td>22</td>\n",
       "      <td>15426</td>\n",
       "    </tr>\n",
       "    <tr>\n",
       "      <th>23</th>\n",
       "      <td>23</td>\n",
       "      <td>15127</td>\n",
       "    </tr>\n",
       "    <tr>\n",
       "      <th>24</th>\n",
       "      <td>24</td>\n",
       "      <td>15050</td>\n",
       "    </tr>\n",
       "    <tr>\n",
       "      <th>25</th>\n",
       "      <td>25</td>\n",
       "      <td>15119</td>\n",
       "    </tr>\n",
       "    <tr>\n",
       "      <th>26</th>\n",
       "      <td>26</td>\n",
       "      <td>15115</td>\n",
       "    </tr>\n",
       "    <tr>\n",
       "      <th>27</th>\n",
       "      <td>27</td>\n",
       "      <td>14988</td>\n",
       "    </tr>\n",
       "    <tr>\n",
       "      <th>28</th>\n",
       "      <td>28</td>\n",
       "      <td>15275</td>\n",
       "    </tr>\n",
       "    <tr>\n",
       "      <th>29</th>\n",
       "      <td>29</td>\n",
       "      <td>15207</td>\n",
       "    </tr>\n",
       "    <tr>\n",
       "      <th>30</th>\n",
       "      <td>30</td>\n",
       "      <td>15193</td>\n",
       "    </tr>\n",
       "    <tr>\n",
       "      <th>31</th>\n",
       "      <td>31</td>\n",
       "      <td>15160</td>\n",
       "    </tr>\n",
       "    <tr>\n",
       "      <th>32</th>\n",
       "      <td>32</td>\n",
       "      <td>15075</td>\n",
       "    </tr>\n",
       "    <tr>\n",
       "      <th>33</th>\n",
       "      <td>33</td>\n",
       "      <td>15115</td>\n",
       "    </tr>\n",
       "    <tr>\n",
       "      <th>34</th>\n",
       "      <td>34</td>\n",
       "      <td>15264</td>\n",
       "    </tr>\n",
       "    <tr>\n",
       "      <th>35</th>\n",
       "      <td>35</td>\n",
       "      <td>15462</td>\n",
       "    </tr>\n",
       "    <tr>\n",
       "      <th>36</th>\n",
       "      <td>36</td>\n",
       "      <td>15021</td>\n",
       "    </tr>\n",
       "    <tr>\n",
       "      <th>37</th>\n",
       "      <td>37</td>\n",
       "      <td>15404</td>\n",
       "    </tr>\n",
       "    <tr>\n",
       "      <th>38</th>\n",
       "      <td>38</td>\n",
       "      <td>15429</td>\n",
       "    </tr>\n",
       "    <tr>\n",
       "      <th>39</th>\n",
       "      <td>39</td>\n",
       "      <td>15163</td>\n",
       "    </tr>\n",
       "    <tr>\n",
       "      <th>40</th>\n",
       "      <td>40</td>\n",
       "      <td>15024</td>\n",
       "    </tr>\n",
       "    <tr>\n",
       "      <th>41</th>\n",
       "      <td>41</td>\n",
       "      <td>15177</td>\n",
       "    </tr>\n",
       "    <tr>\n",
       "      <th>42</th>\n",
       "      <td>42</td>\n",
       "      <td>15214</td>\n",
       "    </tr>\n",
       "    <tr>\n",
       "      <th>43</th>\n",
       "      <td>43</td>\n",
       "      <td>15365</td>\n",
       "    </tr>\n",
       "    <tr>\n",
       "      <th>44</th>\n",
       "      <td>44</td>\n",
       "      <td>15233</td>\n",
       "    </tr>\n",
       "    <tr>\n",
       "      <th>45</th>\n",
       "      <td>45</td>\n",
       "      <td>15311</td>\n",
       "    </tr>\n",
       "    <tr>\n",
       "      <th>46</th>\n",
       "      <td>46</td>\n",
       "      <td>15127</td>\n",
       "    </tr>\n",
       "    <tr>\n",
       "      <th>47</th>\n",
       "      <td>47</td>\n",
       "      <td>15419</td>\n",
       "    </tr>\n",
       "    <tr>\n",
       "      <th>48</th>\n",
       "      <td>48</td>\n",
       "      <td>15376</td>\n",
       "    </tr>\n",
       "    <tr>\n",
       "      <th>49</th>\n",
       "      <td>49</td>\n",
       "      <td>15219</td>\n",
       "    </tr>\n",
       "    <tr>\n",
       "      <th>50</th>\n",
       "      <td>50</td>\n",
       "      <td>15247</td>\n",
       "    </tr>\n",
       "    <tr>\n",
       "      <th>51</th>\n",
       "      <td>51</td>\n",
       "      <td>15175</td>\n",
       "    </tr>\n",
       "    <tr>\n",
       "      <th>52</th>\n",
       "      <td>52</td>\n",
       "      <td>15156</td>\n",
       "    </tr>\n",
       "    <tr>\n",
       "      <th>53</th>\n",
       "      <td>53</td>\n",
       "      <td>15175</td>\n",
       "    </tr>\n",
       "    <tr>\n",
       "      <th>54</th>\n",
       "      <td>54</td>\n",
       "      <td>14851</td>\n",
       "    </tr>\n",
       "    <tr>\n",
       "      <th>55</th>\n",
       "      <td>55</td>\n",
       "      <td>15026</td>\n",
       "    </tr>\n",
       "    <tr>\n",
       "      <th>56</th>\n",
       "      <td>56</td>\n",
       "      <td>15037</td>\n",
       "    </tr>\n",
       "    <tr>\n",
       "      <th>57</th>\n",
       "      <td>57</td>\n",
       "      <td>15168</td>\n",
       "    </tr>\n",
       "    <tr>\n",
       "      <th>58</th>\n",
       "      <td>58</td>\n",
       "      <td>15060</td>\n",
       "    </tr>\n",
       "    <tr>\n",
       "      <th>59</th>\n",
       "      <td>59</td>\n",
       "      <td>15026</td>\n",
       "    </tr>\n",
       "  </tbody>\n",
       "</table>\n",
       "</div>"
      ],
      "text/plain": [
       "    hash_group  applicant\n",
       "0            0      15195\n",
       "1            1      15294\n",
       "2            2      15296\n",
       "3            3      15251\n",
       "4            4      15159\n",
       "5            5      15126\n",
       "6            6      15512\n",
       "7            7      15130\n",
       "8            8      15027\n",
       "9            9      15220\n",
       "10          10      15301\n",
       "11          11      15175\n",
       "12          12      15219\n",
       "13          13      15377\n",
       "14          14      15379\n",
       "15          15      15328\n",
       "16          16      15224\n",
       "17          17      15095\n",
       "18          18      15227\n",
       "19          19      15177\n",
       "20          20      15151\n",
       "21          21      15020\n",
       "22          22      15426\n",
       "23          23      15127\n",
       "24          24      15050\n",
       "25          25      15119\n",
       "26          26      15115\n",
       "27          27      14988\n",
       "28          28      15275\n",
       "29          29      15207\n",
       "30          30      15193\n",
       "31          31      15160\n",
       "32          32      15075\n",
       "33          33      15115\n",
       "34          34      15264\n",
       "35          35      15462\n",
       "36          36      15021\n",
       "37          37      15404\n",
       "38          38      15429\n",
       "39          39      15163\n",
       "40          40      15024\n",
       "41          41      15177\n",
       "42          42      15214\n",
       "43          43      15365\n",
       "44          44      15233\n",
       "45          45      15311\n",
       "46          46      15127\n",
       "47          47      15419\n",
       "48          48      15376\n",
       "49          49      15219\n",
       "50          50      15247\n",
       "51          51      15175\n",
       "52          52      15156\n",
       "53          53      15175\n",
       "54          54      14851\n",
       "55          55      15026\n",
       "56          56      15037\n",
       "57          57      15168\n",
       "58          58      15060\n",
       "59          59      15026"
      ]
     },
     "execution_count": 457,
     "metadata": {},
     "output_type": "execute_result"
    }
   ],
   "source": [
    "# Смотрим на число пользователей в каждой группе\n",
    "group_sizes = applicants.groupby('hash_group').applicant.nunique().reset_index()\n",
    "group_sizes"
   ]
  },
  {
   "cell_type": "code",
   "execution_count": 458,
   "id": "024114bf",
   "metadata": {
    "ExecuteTime": {
     "end_time": "2023-11-27T16:51:34.755485Z",
     "start_time": "2023-11-27T16:51:33.528102Z"
    }
   },
   "outputs": [
    {
     "data": {
      "text/html": [
       "<div>\n",
       "<style scoped>\n",
       "    .dataframe tbody tr th:only-of-type {\n",
       "        vertical-align: middle;\n",
       "    }\n",
       "\n",
       "    .dataframe tbody tr th {\n",
       "        vertical-align: top;\n",
       "    }\n",
       "\n",
       "    .dataframe thead th {\n",
       "        text-align: right;\n",
       "    }\n",
       "</style>\n",
       "<table border=\"1\" class=\"dataframe\">\n",
       "  <thead>\n",
       "    <tr style=\"text-align: right;\">\n",
       "      <th></th>\n",
       "      <th>request_id</th>\n",
       "      <th>vacancy_id_conv</th>\n",
       "      <th>city</th>\n",
       "      <th>applicant</th>\n",
       "      <th>metric_full</th>\n",
       "      <th>employer_id</th>\n",
       "      <th>hash_group</th>\n",
       "    </tr>\n",
       "  </thead>\n",
       "  <tbody>\n",
       "    <tr>\n",
       "      <th>0</th>\n",
       "      <td>168719525526659303f2dee867dc6eda</td>\n",
       "      <td>48019</td>\n",
       "      <td>Moscow</td>\n",
       "      <td>78076</td>\n",
       "      <td>3.869807</td>\n",
       "      <td>4815</td>\n",
       "      <td>5</td>\n",
       "    </tr>\n",
       "    <tr>\n",
       "      <th>1</th>\n",
       "      <td>168719525526659303f2dee867dc6eda</td>\n",
       "      <td>45120</td>\n",
       "      <td>Moscow</td>\n",
       "      <td>614859</td>\n",
       "      <td>5.460877</td>\n",
       "      <td>377</td>\n",
       "      <td>27</td>\n",
       "    </tr>\n",
       "    <tr>\n",
       "      <th>2</th>\n",
       "      <td>168719525526659303f2dee867dc6eda</td>\n",
       "      <td>18132</td>\n",
       "      <td>Moscow</td>\n",
       "      <td>175212</td>\n",
       "      <td>3.836248</td>\n",
       "      <td>1063</td>\n",
       "      <td>39</td>\n",
       "    </tr>\n",
       "    <tr>\n",
       "      <th>3</th>\n",
       "      <td>168719525526659303f2dee867dc6eda</td>\n",
       "      <td>29942</td>\n",
       "      <td>Moscow</td>\n",
       "      <td>322643</td>\n",
       "      <td>4.380258</td>\n",
       "      <td>1894</td>\n",
       "      <td>18</td>\n",
       "    </tr>\n",
       "    <tr>\n",
       "      <th>4</th>\n",
       "      <td>168719525526659303f2dee867dc6eda</td>\n",
       "      <td>32658</td>\n",
       "      <td>Moscow</td>\n",
       "      <td>722260</td>\n",
       "      <td>4.741439</td>\n",
       "      <td>4902</td>\n",
       "      <td>12</td>\n",
       "    </tr>\n",
       "  </tbody>\n",
       "</table>\n",
       "</div>"
      ],
      "text/plain": [
       "                         request_id  vacancy_id_conv    city  applicant  \\\n",
       "0  168719525526659303f2dee867dc6eda            48019  Moscow      78076   \n",
       "1  168719525526659303f2dee867dc6eda            45120  Moscow     614859   \n",
       "2  168719525526659303f2dee867dc6eda            18132  Moscow     175212   \n",
       "3  168719525526659303f2dee867dc6eda            29942  Moscow     322643   \n",
       "4  168719525526659303f2dee867dc6eda            32658  Moscow     722260   \n",
       "\n",
       "   metric_full  employer_id  hash_group  \n",
       "0     3.869807         4815           5  \n",
       "1     5.460877          377          27  \n",
       "2     3.836248         1063          39  \n",
       "3     4.380258         1894          18  \n",
       "4     4.741439         4902          12  "
      ]
     },
     "execution_count": 458,
     "metadata": {},
     "output_type": "execute_result"
    }
   ],
   "source": [
    "df_group = df_agg.merge(applicants, how='left', left_on='applicant', right_on='applicant')\n",
    "df_group.head()"
   ]
  },
  {
   "cell_type": "markdown",
   "id": "8c74fd7e",
   "metadata": {},
   "source": [
    "##### Подготовим таблицы для тестов"
   ]
  },
  {
   "cell_type": "markdown",
   "id": "06501813",
   "metadata": {},
   "source": [
    "Выберем случайные 3 группы:\n",
    "- первые две будем рассматривать в A/A тесте\n",
    "- первую и третью примем синтетического А/В теста с вручную добавленным эффектом"
   ]
  },
  {
   "cell_type": "code",
   "execution_count": 459,
   "id": "9d21f816",
   "metadata": {
    "ExecuteTime": {
     "end_time": "2023-11-27T16:51:34.787014Z",
     "start_time": "2023-11-27T16:51:34.755485Z"
    }
   },
   "outputs": [
    {
     "data": {
      "text/plain": [
       "[15, 17, 52]"
      ]
     },
     "execution_count": 459,
     "metadata": {},
     "output_type": "execute_result"
    }
   ],
   "source": [
    "random_groups = random.sample(list(applicants.hash_group.unique()), 3)\n",
    "random_groups"
   ]
  },
  {
   "cell_type": "code",
   "execution_count": 460,
   "id": "1af288e1",
   "metadata": {
    "ExecuteTime": {
     "end_time": "2023-11-27T16:51:34.802991Z",
     "start_time": "2023-11-27T16:51:34.787014Z"
    }
   },
   "outputs": [
    {
     "name": "stdout",
     "output_type": "stream",
     "text": [
      "Группа 15 - контроль А,\n",
      "группа 17 - тест A,\n",
      "группа 52 - тест B\n"
     ]
    }
   ],
   "source": [
    "print(f'Группа {random_groups[0]} - контроль А,\\n\\\n",
    "группа {random_groups[1]} - тест A,\\n\\\n",
    "группа {random_groups[2]} - тест B')"
   ]
  },
  {
   "cell_type": "code",
   "execution_count": 461,
   "id": "6aab43a9",
   "metadata": {
    "ExecuteTime": {
     "end_time": "2023-11-27T16:51:35.289178Z",
     "start_time": "2023-11-27T16:51:34.802991Z"
    }
   },
   "outputs": [],
   "source": [
    "aab_test_df = df_group.query('hash_group in @random_groups')"
   ]
  },
  {
   "cell_type": "markdown",
   "id": "53b1930f",
   "metadata": {},
   "source": [
    "проверим есть ли пересечения по пользователям"
   ]
  },
  {
   "cell_type": "code",
   "execution_count": 462,
   "id": "2a3829a0",
   "metadata": {
    "ExecuteTime": {
     "end_time": "2023-11-27T16:51:35.351752Z",
     "start_time": "2023-11-27T16:51:35.289178Z"
    }
   },
   "outputs": [
    {
     "data": {
      "text/html": [
       "<div>\n",
       "<style scoped>\n",
       "    .dataframe tbody tr th:only-of-type {\n",
       "        vertical-align: middle;\n",
       "    }\n",
       "\n",
       "    .dataframe tbody tr th {\n",
       "        vertical-align: top;\n",
       "    }\n",
       "\n",
       "    .dataframe thead th {\n",
       "        text-align: right;\n",
       "    }\n",
       "</style>\n",
       "<table border=\"1\" class=\"dataframe\">\n",
       "  <thead>\n",
       "    <tr style=\"text-align: right;\">\n",
       "      <th></th>\n",
       "      <th>hash_group</th>\n",
       "    </tr>\n",
       "    <tr>\n",
       "      <th>applicant</th>\n",
       "      <th></th>\n",
       "    </tr>\n",
       "  </thead>\n",
       "  <tbody>\n",
       "  </tbody>\n",
       "</table>\n",
       "</div>"
      ],
      "text/plain": [
       "Empty DataFrame\n",
       "Columns: [hash_group]\n",
       "Index: []"
      ]
     },
     "execution_count": 462,
     "metadata": {},
     "output_type": "execute_result"
    }
   ],
   "source": [
    "aab_test_df.groupby('applicant').agg({'hash_group':'nunique'}).query('hash_group > 1')"
   ]
  },
  {
   "cell_type": "code",
   "execution_count": 463,
   "id": "fb58addc",
   "metadata": {
    "ExecuteTime": {
     "end_time": "2023-11-27T16:51:35.367371Z",
     "start_time": "2023-11-27T16:51:35.351752Z"
    }
   },
   "outputs": [
    {
     "data": {
      "text/html": [
       "<div>\n",
       "<style scoped>\n",
       "    .dataframe tbody tr th:only-of-type {\n",
       "        vertical-align: middle;\n",
       "    }\n",
       "\n",
       "    .dataframe tbody tr th {\n",
       "        vertical-align: top;\n",
       "    }\n",
       "\n",
       "    .dataframe thead th {\n",
       "        text-align: right;\n",
       "    }\n",
       "</style>\n",
       "<table border=\"1\" class=\"dataframe\">\n",
       "  <thead>\n",
       "    <tr style=\"text-align: right;\">\n",
       "      <th></th>\n",
       "      <th>hash_group</th>\n",
       "      <th>applicant</th>\n",
       "    </tr>\n",
       "  </thead>\n",
       "  <tbody>\n",
       "    <tr>\n",
       "      <th>15</th>\n",
       "      <td>15</td>\n",
       "      <td>15328</td>\n",
       "    </tr>\n",
       "    <tr>\n",
       "      <th>17</th>\n",
       "      <td>17</td>\n",
       "      <td>15095</td>\n",
       "    </tr>\n",
       "    <tr>\n",
       "      <th>52</th>\n",
       "      <td>52</td>\n",
       "      <td>15156</td>\n",
       "    </tr>\n",
       "  </tbody>\n",
       "</table>\n",
       "</div>"
      ],
      "text/plain": [
       "    hash_group  applicant\n",
       "15          15      15328\n",
       "17          17      15095\n",
       "52          52      15156"
      ]
     },
     "execution_count": 463,
     "metadata": {},
     "output_type": "execute_result"
    }
   ],
   "source": [
    "# размеры групп для А/A/В теста\n",
    "group_sizes.query('hash_group in @random_groups')"
   ]
  },
  {
   "cell_type": "code",
   "execution_count": 464,
   "id": "75160e0a",
   "metadata": {
    "ExecuteTime": {
     "end_time": "2023-11-27T16:51:35.711132Z",
     "start_time": "2023-11-27T16:51:35.414256Z"
    }
   },
   "outputs": [],
   "source": [
    "df_control_a = aab_test_df.query('hash_group == @random_groups[0]')\n",
    "\n",
    "df_test_a = aab_test_df.query('hash_group == @random_groups[1]')\n",
    "\n",
    "df_test_b = aab_test_df.query('hash_group == @random_groups[2]')"
   ]
  },
  {
   "cell_type": "markdown",
   "id": "11508fc7",
   "metadata": {},
   "source": [
    "### A/A test"
   ]
  },
  {
   "cell_type": "markdown",
   "id": "db9a9b15",
   "metadata": {},
   "source": [
    "#### Зададим необходимые функции"
   ]
  },
  {
   "cell_type": "code",
   "execution_count": 465,
   "id": "2d8b97cc",
   "metadata": {
    "ExecuteTime": {
     "end_time": "2023-11-27T16:51:35.742377Z",
     "start_time": "2023-11-27T16:51:35.711132Z"
    }
   },
   "outputs": [],
   "source": [
    "def bootstrap_ratio_diff(df_t, df_c, effect_sint, n_trails=2000):\n",
    "    '''\n",
    "    Из каждой группы теста берем случайные подвыборки такого же размера \n",
    "    как группа теста в количестве n_trails раз\n",
    "    для каждой подвыборки считаем все вакансии в подвыборке\n",
    "    и все вакансии со скором меньше 3\n",
    "    находим долю в каждой подвыборке n_trails раз\n",
    "    и определеяем разницу долей для теста/контроля\n",
    "    возвращает распределение разницы\n",
    "    '''\n",
    "    distrib_diff = []\n",
    "    distr_test = []\n",
    "    distr_contr = []\n",
    "    \n",
    "    for _ in range(n_trails):\n",
    "        \n",
    "        #test\n",
    "        sample1_t = df_t['metric_full'].sample(len(df_t['metric_full']),\\\n",
    "                                               replace = True) \n",
    "        denom_t = sample1_t.nunique()\n",
    "        sample2_t = pd.DataFrame(sample1_t)\n",
    "        num_t = sample2_t[sample2_t.metric_full < 3].metric_full.nunique()\n",
    "                \n",
    "        ratio_t = num_t / denom_t - effect_sint # вручную добавленное изменение \n",
    "                                                # для следующего синт.теста\n",
    "        \n",
    "        distr_test.append(ratio_t) # распределение метрики в тесте\n",
    "        \n",
    "        #control\n",
    "        sample1_c = df_c['metric_full'].sample(len(df_c['metric_full']),\\\n",
    "                                               replace = True) \n",
    "        denom_c = sample1_c.nunique()\n",
    "        sample2_c = pd.DataFrame(sample1_c)\n",
    "        num_c = sample2_c[sample2_c.metric_full < 3].metric_full.nunique()\n",
    "                \n",
    "        ratio_c = num_c / denom_c\n",
    "        \n",
    "        distr_contr.append(ratio_c) # распределение без изменений\n",
    "\n",
    "        distrib_diff.append(ratio_c - ratio_t) # распределение разницы\n",
    "                                                # с вероятностью (1-alpha) \n",
    "                                                    # должно быть больше 0\n",
    "    \n",
    "    return distr_test, distr_contr, distrib_diff"
   ]
  },
  {
   "cell_type": "code",
   "execution_count": 466,
   "id": "6f4d7573",
   "metadata": {
    "ExecuteTime": {
     "end_time": "2023-11-27T16:51:35.758008Z",
     "start_time": "2023-11-27T16:51:35.742377Z"
    }
   },
   "outputs": [],
   "source": [
    "def get_percentile_ci(distrib_diff, alpha):\n",
    "    '''\n",
    "    Считает перцентильный доверительный интервал \n",
    "    '''\n",
    "    left_ci = np.quantile(distrib_diff, alpha) # от 5% до +∞\n",
    "    \n",
    "    return left_ci"
   ]
  },
  {
   "cell_type": "code",
   "execution_count": 467,
   "id": "95e28465",
   "metadata": {
    "ExecuteTime": {
     "end_time": "2023-11-27T16:51:35.773639Z",
     "start_time": "2023-11-27T16:51:35.758008Z"
    }
   },
   "outputs": [],
   "source": [
    "def ci_pvalue(distrib_diff):\n",
    "    '''\n",
    "    проверяем входит ли 0 в ДИ и считаем p-value\n",
    "    '''\n",
    "    ci = get_percentile_ci(distrib_diff, alpha)\n",
    "    \n",
    "    # находим, в каком квантиле нашего распределения расположен 0\n",
    "    quant = stats.norm.cdf(x=0, loc=np.mean(distrib_diff), \\\n",
    "                           scale=np.std(distrib_diff, ddof=1))\n",
    "    p_value = quant if 0 < np.mean(distrib_diff) else (1 - quant) # вероятность \n",
    "                        # получить такое или более выраженное при верной H0 \n",
    "    print(f'Граница ДИ: {ci}, p-value: {p_value}')\n",
    "    \n",
    "    if (p_value > alpha) and (0 > ci):\n",
    "        print('0 попадает в 95%-ый ДИ, p-value больше alpha')\n",
    "        print('Нет оснований отвергать нулевую гипотезу о равенстве долей непривлекательных вакансий в тесте/контроле')\n",
    "    else:\n",
    "        print('0 вне границ 95%-ого ДИ, p-value меньше alpha')\n",
    "        print('Отвергаем нулевую гипотезу: доля непривлекательных вакансий в тесте значимо снизилась')\n",
    "              \n",
    "    return ci, p_value"
   ]
  },
  {
   "cell_type": "code",
   "execution_count": 468,
   "id": "a5917f06",
   "metadata": {
    "ExecuteTime": {
     "end_time": "2023-11-27T16:51:35.789609Z",
     "start_time": "2023-11-27T16:51:35.773639Z"
    }
   },
   "outputs": [],
   "source": [
    "def do_viz(distr_test, distr_contr, distrib_diff, ci_diff):\n",
    "    '''\n",
    "    построение распределений с отмеченным критическим значением на распределении\n",
    "    разницы полученных метрик\n",
    "    '''\n",
    "  \n",
    "    fig = plt.figure(figsize=(35,10))\n",
    "    \n",
    "    ax1 = plt.subplot(1, 3, 1)\n",
    "    plt.hist(pd.Series(distr_contr), bins = 50)\n",
    "    plt.vlines(np.mean(distr_contr), ymin=0, ymax=150, linestyle='-', colors='b')\n",
    "    plt.title('control')\n",
    "    \n",
    "    ax2 = plt.subplot(1, 3, 2)\n",
    "    plt.hist(pd.Series(distr_test), bins = 50)\n",
    "    plt.vlines(np.mean(distr_test), ymin=0, ymax=150, linestyle='-', colors='b')\n",
    "    plt.title('test')\n",
    "    \n",
    "    ax3 = plt.subplot(1, 3, 3)\n",
    "    plt.hist(pd.Series(distrib_diff), bins = 50)\n",
    "    plt.vlines(ci_diff, ymin=0, ymax=50, linestyle='--', colors='g')\n",
    "    plt.vlines(np.mean(distrib_diff), ymin=0, ymax=150, linestyle='-', colors='b')\n",
    "    plt.title('diff: control - test')\n",
    "    \n",
    "    axes = [ax1, ax2, ax3]\n",
    "    for ax in axes:\n",
    "        plt.style.use('ggplot')\n",
    "        ax.set_xlabel('boot_ratio', fontsize=20)\n",
    "        ax.set_ylabel('frequency', fontsize=20)"
   ]
  },
  {
   "cell_type": "markdown",
   "id": "949fdb3f",
   "metadata": {
    "ExecuteTime": {
     "end_time": "2023-10-10T10:06:10.370201Z",
     "start_time": "2023-10-10T10:06:10.362678Z"
    }
   },
   "source": [
    "#### А/А тест"
   ]
  },
  {
   "cell_type": "markdown",
   "id": "d82f8dc4",
   "metadata": {},
   "source": [
    "В тестах значимость различий будем проверять с помощью ДИ (содержит ли 95 % значений 0):\n",
    "- если содержит, то разницы в 95 % случаев может не быть, принимаем H0;\n",
    "- если не содержит, то разница в 95 % отлична 0, отклоняем H0;"
   ]
  },
  {
   "cell_type": "markdown",
   "id": "887ad46e",
   "metadata": {},
   "source": [
    "Если 0 принадлежит доверительному интервалу разницы долей, то эта разница является незначимой"
   ]
  },
  {
   "cell_type": "markdown",
   "id": "906e80d4",
   "metadata": {},
   "source": [
    "Чтобы найти p-value, необходимо узнать долю случаев, когда разница была равна 0 и случаев еще более выраженных"
   ]
  },
  {
   "cell_type": "code",
   "execution_count": 469,
   "id": "1dcadddf",
   "metadata": {
    "ExecuteTime": {
     "end_time": "2023-11-27T16:51:47.857909Z",
     "start_time": "2023-11-27T16:51:35.790120Z"
    }
   },
   "outputs": [],
   "source": [
    "distr_test_a, distr_contr_a, distrib_diff_aa = bootstrap_ratio_diff(df_test_a, df_control_a, effect_sint=0)"
   ]
  },
  {
   "cell_type": "markdown",
   "id": "55b8fd2a",
   "metadata": {},
   "source": [
    "Построим 95%-ый доверительный интервал\n",
    "Чтобы найти p-value, необходимо узнать долю случаев, когда разница была равна 0 и случаев еще более выраженных\n",
    "найдем вероятность получить 0 и меньше в распределении разницы метрики в тесте/контроле"
   ]
  },
  {
   "cell_type": "code",
   "execution_count": 470,
   "id": "c163d00a",
   "metadata": {
    "ExecuteTime": {
     "end_time": "2023-11-27T16:51:47.873524Z",
     "start_time": "2023-11-27T16:51:47.857909Z"
    }
   },
   "outputs": [
    {
     "name": "stdout",
     "output_type": "stream",
     "text": [
      "Граница ДИ: -0.003473451188093177, p-value: 0.18599757416587115\n",
      "0 попадает в 95%-ый ДИ, p-value больше alpha\n",
      "Нет оснований отвергать нулевую гипотезу о равенстве долей непривлекательный вакансий в тесте/контроле\n"
     ]
    }
   ],
   "source": [
    "ci_diff_aa, p_value_aa = ci_pvalue(distrib_diff_aa)"
   ]
  },
  {
   "cell_type": "code",
   "execution_count": 471,
   "id": "d93b3172",
   "metadata": {
    "ExecuteTime": {
     "end_time": "2023-11-27T16:51:48.568853Z",
     "start_time": "2023-11-27T16:51:47.873524Z"
    }
   },
   "outputs": [
    {
     "data": {
      "image/png": "[encoded data removed]",
      "text/plain": [
       "<Figure size 3500x1000 with 3 Axes>"
      ]
     },
     "metadata": {},
     "output_type": "display_data"
    }
   ],
   "source": [
    "do_viz(distr_test_a, distr_contr_a, distrib_diff_aa, ci_diff_aa)"
   ]
  },
  {
   "cell_type": "markdown",
   "id": "5ae58673",
   "metadata": {
    "ExecuteTime": {
     "end_time": "2023-10-10T10:09:57.741108Z",
     "start_time": "2023-10-10T10:09:57.717783Z"
    }
   },
   "source": [
    "С вероятностью 95% разница долей в результате A/A теста содержит 0, тогда мы на 95% уверены, что разница между группами нет\n",
    "\n",
    "p-value > alpha, нет оснований отвергать H0 о равенстве долей в тесте/контроле"
   ]
  },
  {
   "cell_type": "markdown",
   "id": "90b1f389",
   "metadata": {},
   "source": [
    "#### Синтетический A/B тест (симуляция с заданным effect, принятым при расчете sample size)"
   ]
  },
  {
   "cell_type": "code",
   "execution_count": 472,
   "id": "a3663bdf",
   "metadata": {
    "ExecuteTime": {
     "end_time": "2023-11-27T16:51:59.685655Z",
     "start_time": "2023-11-27T16:51:48.572156Z"
    }
   },
   "outputs": [],
   "source": [
    "distr_test_b, distr_contr_a, distrib_diff_ab = bootstrap_ratio_diff(df_test_b, df_control_a, effect_sint=effect)"
   ]
  },
  {
   "cell_type": "code",
   "execution_count": 473,
   "id": "bf64d1c4",
   "metadata": {
    "ExecuteTime": {
     "end_time": "2023-11-27T16:51:59.701245Z",
     "start_time": "2023-11-27T16:51:59.688341Z"
    }
   },
   "outputs": [
    {
     "name": "stdout",
     "output_type": "stream",
     "text": [
      "Граница ДИ: 0.003991065257371923, p-value: 4.238568406306844e-06\n",
      "0 вне границ 95%-ого ДИ, p-value меньше alpha\n",
      "Отвергаем нулевую гипотезу: доля непривлекательных вакансий в тесте значимо снизилась\n"
     ]
    }
   ],
   "source": [
    "ci_diff_ab, p_value_ab = ci_pvalue(distrib_diff_ab)"
   ]
  },
  {
   "cell_type": "code",
   "execution_count": 474,
   "id": "35f3679a",
   "metadata": {
    "ExecuteTime": {
     "end_time": "2023-11-27T16:52:00.284898Z",
     "start_time": "2023-11-27T16:51:59.702963Z"
    }
   },
   "outputs": [
    {
     "data": {
      "image/png": "[encoded data removed]",
      "text/plain": [
       "<Figure size 3500x1000 with 3 Axes>"
      ]
     },
     "metadata": {},
     "output_type": "display_data"
    }
   ],
   "source": [
    "do_viz(distr_test_b, distr_contr_a, distrib_diff_ab, ci_diff_ab)"
   ]
  },
  {
   "cell_type": "markdown",
   "id": "cf23061c",
   "metadata": {},
   "source": [
    "### MDE"
   ]
  },
  {
   "cell_type": "markdown",
   "id": "558996c8",
   "metadata": {},
   "source": [
    "Посмотрим на MDE для полученных размеров групп с полученными распределениями метрики"
   ]
  },
  {
   "cell_type": "markdown",
   "id": "5d47085c",
   "metadata": {},
   "source": [
    "Воспользуемся формулой:"
   ]
  },
  {
   "attachments": {
    "image.png": {
     "image/png": "[encoded data removed]"
    }
   },
   "cell_type": "markdown",
   "id": "cbe4f1d6",
   "metadata": {},
   "source": [
    "![image.png](attachment:image.png)"
   ]
  },
  {
   "cell_type": "code",
   "execution_count": 475,
   "id": "7d020080",
   "metadata": {
    "ExecuteTime": {
     "end_time": "2023-11-27T16:52:00.300981Z",
     "start_time": "2023-11-27T16:52:00.287070Z"
    }
   },
   "outputs": [
    {
     "data": {
      "text/html": [
       "<div>\n",
       "<style scoped>\n",
       "    .dataframe tbody tr th:only-of-type {\n",
       "        vertical-align: middle;\n",
       "    }\n",
       "\n",
       "    .dataframe tbody tr th {\n",
       "        vertical-align: top;\n",
       "    }\n",
       "\n",
       "    .dataframe thead th {\n",
       "        text-align: right;\n",
       "    }\n",
       "</style>\n",
       "<table border=\"1\" class=\"dataframe\">\n",
       "  <thead>\n",
       "    <tr style=\"text-align: right;\">\n",
       "      <th></th>\n",
       "      <th>hash_group</th>\n",
       "      <th>applicant</th>\n",
       "    </tr>\n",
       "  </thead>\n",
       "  <tbody>\n",
       "    <tr>\n",
       "      <th>15</th>\n",
       "      <td>15</td>\n",
       "      <td>15328</td>\n",
       "    </tr>\n",
       "    <tr>\n",
       "      <th>17</th>\n",
       "      <td>17</td>\n",
       "      <td>15095</td>\n",
       "    </tr>\n",
       "    <tr>\n",
       "      <th>52</th>\n",
       "      <td>52</td>\n",
       "      <td>15156</td>\n",
       "    </tr>\n",
       "  </tbody>\n",
       "</table>\n",
       "</div>"
      ],
      "text/plain": [
       "    hash_group  applicant\n",
       "15          15      15328\n",
       "17          17      15095\n",
       "52          52      15156"
      ]
     },
     "execution_count": 475,
     "metadata": {},
     "output_type": "execute_result"
    }
   ],
   "source": [
    "group_sizes.query('hash_group in @random_groups')"
   ]
  },
  {
   "cell_type": "code",
   "execution_count": 476,
   "id": "76ac51b1",
   "metadata": {
    "ExecuteTime": {
     "end_time": "2023-11-27T16:52:00.316157Z",
     "start_time": "2023-11-27T16:52:00.302800Z"
    }
   },
   "outputs": [],
   "source": [
    "n0 = group_sizes.query('hash_group in @random_groups').applicant[random_groups[0]] #A\n",
    "n1 = group_sizes.query('hash_group in @random_groups').applicant[random_groups[2]] #B"
   ]
  },
  {
   "cell_type": "code",
   "execution_count": 477,
   "id": "993781b9",
   "metadata": {
    "ExecuteTime": {
     "end_time": "2023-11-27T16:52:00.341902Z",
     "start_time": "2023-11-27T16:52:00.318622Z"
    }
   },
   "outputs": [
    {
     "data": {
      "text/plain": [
       "0.9887787056367432"
      ]
     },
     "execution_count": 477,
     "metadata": {},
     "output_type": "execute_result"
    }
   ],
   "source": [
    "# соотношение размеров групп\n",
    "ratio_size = n1/n0\n",
    "ratio_size"
   ]
  },
  {
   "cell_type": "markdown",
   "id": "cff52959",
   "metadata": {},
   "source": [
    "Рассчитаем какой эффект мы сможем обнаружить с полученными размерами выборки принятых для А/В теста \n",
    "\n",
    "для расчета примем $p_{test}$ = $p_{control}$"
   ]
  },
  {
   "cell_type": "code",
   "execution_count": 478,
   "id": "276825ac",
   "metadata": {
    "ExecuteTime": {
     "end_time": "2023-11-27T16:52:00.357529Z",
     "start_time": "2023-11-27T16:52:00.341902Z"
    }
   },
   "outputs": [
    {
     "data": {
      "text/plain": [
       "0.049225898449912035"
      ]
     },
     "execution_count": 478,
     "metadata": {},
     "output_type": "execute_result"
    }
   ],
   "source": [
    "p_0 = np.mean(distr_contr_a) # средняя доля по группе А нашего теста\n",
    "p_0"
   ]
  },
  {
   "cell_type": "code",
   "execution_count": 479,
   "id": "b5489675",
   "metadata": {
    "ExecuteTime": {
     "end_time": "2023-11-27T16:52:00.373268Z",
     "start_time": "2023-11-27T16:52:00.359248Z"
    }
   },
   "outputs": [
    {
     "data": {
      "text/plain": [
       "0.001990570870422188"
      ]
     },
     "execution_count": 479,
     "metadata": {},
     "output_type": "execute_result"
    }
   ],
   "source": [
    "mde_check = (lvl_alpha - lvl_beta) * \\\n",
    "        mth.sqrt(p_0 * (1 - p_0) / n1 + p_0 * (1 - p_0) / n0)\n",
    "mde_check"
   ]
  },
  {
   "cell_type": "code",
   "execution_count": 480,
   "id": "b0010cd1",
   "metadata": {
    "ExecuteTime": {
     "end_time": "2023-11-27T16:52:00.389147Z",
     "start_time": "2023-11-27T16:52:00.373268Z"
    }
   },
   "outputs": [
    {
     "name": "stdout",
     "output_type": "stream",
     "text": [
      "Относительный MDE равен 4 %\n"
     ]
    }
   ],
   "source": [
    "print(f'Относительный MDE равен {int(mde_check*100/p_0)} %')"
   ]
  }
 ],
 "metadata": {
  "kernelspec": {
   "display_name": "Python 3 (ipykernel)",
   "language": "python",
   "name": "python3"
  },
  "language_info": {
   "codemirror_mode": {
    "name": "ipython",
    "version": 3
   },
   "file_extension": ".py",
   "mimetype": "text/x-python",
   "name": "python",
   "nbconvert_exporter": "python",
   "pygments_lexer": "ipython3",
   "version": "3.7.0"
  },
  "toc": {
   "base_numbering": 1,
   "nav_menu": {},
   "number_sections": true,
   "sideBar": true,
   "skip_h1_title": true,
   "title_cell": "Table of Contents",
   "title_sidebar": "Contents",
   "toc_cell": true,
   "toc_position": {
    "height": "calc(100% - 180px)",
    "left": "10px",
    "top": "150px",
    "width": "307.182px"
   },
   "toc_section_display": true,
   "toc_window_display": true
  }
 },
 "nbformat": 4,
 "nbformat_minor": 5
}
